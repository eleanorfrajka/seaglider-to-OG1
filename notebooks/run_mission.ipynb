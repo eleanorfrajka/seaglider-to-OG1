{
 "cells": [
  {
   "cell_type": "markdown",
   "metadata": {},
   "source": [
    "# Run a full mission of basestation files\n"
   ]
  },
  {
   "cell_type": "code",
   "execution_count": null,
   "metadata": {},
   "outputs": [],
   "source": [
    "# This cell imports for development work\n",
    "import sys\n",
    "import importlib\n",
    "sys.path.append('/Users/eddifying/Cloudfree/gitlab-cloudfree/seagliderOG1')\n",
    "import warnings\n",
    "warnings.simplefilter(\"ignore\", category=Warning)"
   ]
  },
  {
   "cell_type": "code",
   "execution_count": null,
   "metadata": {},
   "outputs": [],
   "source": [
    "from seagliderOG1 import readers\n",
    "from seagliderOG1 import plotters\n",
    "from seagliderOG1 import convertOG1\n",
    "from seagliderOG1 import vocabularies\n",
    "import xarray as xr\n",
    "import os"
   ]
  },
  {
   "cell_type": "code",
   "execution_count": null,
   "metadata": {},
   "outputs": [],
   "source": [
    "importlib.reload(convertOG1)\n",
    "servers = [\n",
    "    # Either Iceland, Faroes or RAPID/MOCHA\n",
    "    \"https://www.ncei.noaa.gov/data/oceans/glider/seaglider/uw/005/20090829/\", # done\n",
    "    \"https://www.ncei.noaa.gov/data/oceans/glider/seaglider/uw/005/20080606/\", # done\n",
    "    \"https://www.ncei.noaa.gov/data/oceans/glider/seaglider/uw/005/20081106/\", # done\n",
    "    \"https://www.ncei.noaa.gov/data/oceans/glider/seaglider/uw/012/20070831/\", # done\n",
    "    \"https://www.ncei.noaa.gov/data/oceans/glider/seaglider/uw/014/20080214/\",  # done\n",
    "    \"https://www.ncei.noaa.gov/data/oceans/glider/seaglider/uw/014/20080222/\", # done\n",
    "    \"https://www.ncei.noaa.gov/data/oceans/glider/seaglider/uw/016/20061112/\",  # done\n",
    "    \"https://www.ncei.noaa.gov/data/oceans/glider/seaglider/uw/016/20090605/\", # done\n",
    "    \"https://www.ncei.noaa.gov/data/oceans/glider/seaglider/uw/016/20071113/\", # done\n",
    "    \"https://www.ncei.noaa.gov/data/oceans/glider/seaglider/uw/016/20080607/\",  # done\n",
    "    \"https://www.ncei.noaa.gov/data/oceans/glider/seaglider/uw/033/20100518/\", # failed - ok after update to save_dataset\n",
    "    \"https://www.ncei.noaa.gov/data/oceans/glider/seaglider/uw/033/20100903/\",\n",
    "    \"https://www.ncei.noaa.gov/data/oceans/glider/seaglider/uw/101/20081108/\",\n",
    "    \"https://www.ncei.noaa.gov/data/oceans/glider/seaglider/uw/101/20061112/\",\n",
    "    \"https://www.ncei.noaa.gov/data/oceans/glider/seaglider/uw/101/20070609/\",\n",
    "    \"https://www.ncei.noaa.gov/data/oceans/glider/seaglider/uw/102/20061112/\",\n",
    "    # Labrador Sea\n",
    "    \"https://www.ncei.noaa.gov/data/oceans/glider/seaglider/uw/015/20040924/\",\n",
    "    \"https://www.ncei.noaa.gov/data/oceans/glider/seaglider/uw/014/20040924/\",\n",
    "    \"https://www.ncei.noaa.gov/data/oceans/glider/seaglider/uw/008/20031002/\",\n",
    "    \"https://www.ncei.noaa.gov/data/oceans/glider/seaglider/uw/004/20031002/\",\n",
    "    \"https://www.ncei.noaa.gov/data/oceans/glider/seaglider/uw/016/20050406/\",\n",
    "    # RAPID/MOCHA\n",
    "    \"https://www.ncei.noaa.gov/data/oceans/glider/seaglider/uw/033/20100729/\",\n",
    "    \"https://www.ncei.noaa.gov/data/oceans/glider/seaglider/uw/034/20110128/\",\n",
    "\n",
    "]\n",
    "\n",
    "def process_and_save_data(input_location, save=False, output_dir='../data'):\n",
    "    # Load and concatenate all datasets from the server\n",
    "    list_datasets = readers.read_basestation(input_location)\n",
    "    \n",
    "    # Convert the list of datasets to OG1\n",
    "    ds1 = convertOG1.convert_to_OG1(list_datasets[-1])\n",
    "    output_file = os.path.join('../data', ds1.attrs['id'] + '.nc')\n",
    "    \n",
    "    # Check if the file exists and delete it if it does\n",
    "    if os.path.exists(output_file):\n",
    "        # Run quietly\n",
    "#        user_input = input(f\"File {output_file} already exists. Do you want to re-run and overwrite it? (yes/no): \")\n",
    "        user_input = 'no'\n",
    "        if user_input.lower() != 'yes':\n",
    "            print(\"File already exists. Exiting the process.  Edit in run_mission to prompt user.\")\n",
    "            ds_all = xr.open_dataset(output_file)\n",
    "            return ds_all\n",
    "        elif user_input.lower() == 'yes':\n",
    "            ds_all = convertOG1.convert_to_OG1(list_datasets)\n",
    "            os.remove(output_file)\n",
    "            if save:\n",
    "                convertOG1.save_dataset(ds_all, output_file)\n",
    "    else:\n",
    "        print('Running the directory')\n",
    "        ds_all = convertOG1.convert_to_OG1(list_datasets)\n",
    "        if save:\n",
    "            convertOG1.save_dataset(ds_all, output_file)\n",
    "    \n",
    "    return ds_all\n",
    "\n",
    "for input_loc in servers:\n",
    "    print(input_loc)\n",
    "    # Example usage\n",
    "    ds_all = process_and_save_data(input_loc, save=True)"
   ]
  },
  {
   "cell_type": "markdown",
   "metadata": {},
   "source": [
    "# Cells below are for troubleshooting the loading"
   ]
  },
  {
   "cell_type": "code",
   "execution_count": null,
   "metadata": {},
   "outputs": [],
   "source": [
    "## Break down the loading functions to see where it's going wrong. \n",
    "\n",
    "Update the `input_loc` to the directory where the `p*nc` files are stored."
   ]
  },
  {
   "cell_type": "code",
   "execution_count": null,
   "metadata": {},
   "outputs": [],
   "source": [
    "importlib.reload(convertOG1)\n",
    "input_loc =  \"https://www.ncei.noaa.gov/data/oceans/glider/seaglider/uw/016/20050406/\"\n",
    "save = True\n",
    "\n",
    "# Troubleshooting - run outside a function\n",
    "# Load and concatenate all datasets from the server\n",
    "list_datasets = readers.read_basestation(input_loc)\n",
    "\n",
    "datasets = list_datasets\n",
    "# Convert the list of datasets to OG1\n",
    "processed_datasets = []\n",
    "for ds in datasets:\n",
    "    ds_new, attr_warnings, sg_cal, dc_other, dc_log = convertOG1.convert_to_OG1_dataset(ds)\n",
    "    processed_datasets.append(ds_new)\n",
    "\n",
    "concatenated_ds = xr.concat(processed_datasets, dim='N_MEASUREMENTS')\n",
    "concatenated_ds = concatenated_ds.sortby('TIME')\n",
    "\n",
    "# Apply attributes\n",
    "ordered_attributes = update_dataset_attributes(datasets[0], contrib_to_append)\n",
    "for key, value in ordered_attributes.items():\n",
    "    concatenated_ds.attrs[key] = value\n",
    "\n",
    "# Construct the platform serial number\n",
    "PLATFORM_SERIAL_NUMBER = 'sg' + concatenated_ds.attrs['id'][1:4]\n",
    "print(PLATFORM_SERIAL_NUMBER)\n",
    "concatenated_ds['PLATFORM_SERIAL_NUMBER'] = PLATFORM_SERIAL_NUMBER\n",
    "concatenated_ds['PLATFORM_SERIAL_NUMBER'].attrs['long_name'] = \"glider serial number\"\n",
    "\n",
    "# Construct the unique identifier attribute\n",
    "id = f\"{PLATFORM_SERIAL_NUMBER}_{concatenated_ds.start_date}_delayed\"\n",
    "concatenated_ds.attrs['id'] = id\n",
    "\n",
    "if save:\n",
    "    output_file = os.path.join('../data', 'run_mission_test.nc')\n",
    "    # Save the dataset to a NetCDF file\n",
    "    convertOG1.save_dataset(concatenated_ds, output_file)"
   ]
  },
  {
   "cell_type": "markdown",
   "metadata": {},
   "source": [
    "## Dealing with missing coordinates"
   ]
  },
  {
   "cell_type": "code",
   "execution_count": null,
   "metadata": {},
   "outputs": [],
   "source": [
    "processed_datasets # The list of xarray datasets, one for each `p*nc` file\n",
    "coordinates_dict = {i: list(ds.coords) for i, ds in enumerate(processed_datasets)}\n",
    "coordinates_dict\n",
    "\n",
    "missing_longitude = [i for i, coords in coordinates_dict.items() if 'LONGITUDE' not in coords]\n",
    "missing_longitude\n",
    "\n",
    "datasets_with_longitude = [i for i, coords in coordinates_dict.items() if 'LONGITUDE' in coords]\n",
    "datasets_with_longitude\n"
   ]
  }
 ],
 "metadata": {
  "kernelspec": {
   "display_name": "Python 3",
   "language": "python",
   "name": "python3"
  },
  "language_info": {
   "codemirror_mode": {
    "name": "ipython",
    "version": 3
   },
   "file_extension": ".py",
   "mimetype": "text/x-python",
   "name": "python",
   "nbconvert_exporter": "python",
   "pygments_lexer": "ipython3",
   "version": "3.12.7"
  }
 },
 "nbformat": 4,
 "nbformat_minor": 2
}
