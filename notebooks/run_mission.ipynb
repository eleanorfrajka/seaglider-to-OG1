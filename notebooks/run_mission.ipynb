{
 "cells": [
  {
   "cell_type": "markdown",
   "metadata": {},
   "source": [
    "# Run a full mission of basestation files\n"
   ]
  },
  {
   "cell_type": "code",
   "execution_count": null,
   "metadata": {},
   "outputs": [],
   "source": [
    "import sys\n",
    "import importlib\n",
    "sys.path.append('/Users/eddifying/Cloudfree/gitlab-cloudfree/seagliderOG1')\n",
    "import warnings\n",
    "warnings.simplefilter(\"ignore\", category=Warning)"
   ]
  },
  {
   "cell_type": "code",
   "execution_count": null,
   "metadata": {},
   "outputs": [],
   "source": [
    "from seagliderOG1 import readers\n",
    "from seagliderOG1 import plotters\n",
    "from seagliderOG1 import convertOG1\n",
    "from seagliderOG1 import vocabularies\n",
    "import os"
   ]
  },
  {
   "cell_type": "code",
   "execution_count": null,
   "metadata": {},
   "outputs": [
    {
     "ename": "KeyError",
     "evalue": "'id'",
     "output_type": "error",
     "traceback": [
      "\u001b[0;31m---------------------------------------------------------------------------\u001b[0m",
      "\u001b[0;31mKeyError\u001b[0m                                  Traceback (most recent call last)",
      "Cell \u001b[0;32mIn[4], line 33\u001b[0m\n\u001b[1;32m     30\u001b[0m     \u001b[38;5;28;01mreturn\u001b[39;00m ds_all\n\u001b[1;32m     32\u001b[0m \u001b[38;5;66;03m# Example usage\u001b[39;00m\n\u001b[0;32m---> 33\u001b[0m ds_all \u001b[38;5;241m=\u001b[39m \u001b[43mprocess_and_save_data\u001b[49m\u001b[43m(\u001b[49m\u001b[43minput_loc\u001b[49m\u001b[43m,\u001b[49m\u001b[43m \u001b[49m\u001b[43msave\u001b[49m\u001b[38;5;241;43m=\u001b[39;49m\u001b[38;5;28;43;01mTrue\u001b[39;49;00m\u001b[43m)\u001b[49m\n",
      "Cell \u001b[0;32mIn[4], line 11\u001b[0m, in \u001b[0;36mprocess_and_save_data\u001b[0;34m(input_location, save, output_dir)\u001b[0m\n\u001b[1;32m      8\u001b[0m     list_datasets \u001b[38;5;241m=\u001b[39m readers\u001b[38;5;241m.\u001b[39mread_basestation(input_location)\n\u001b[1;32m     10\u001b[0m     \u001b[38;5;66;03m# Convert the list of datasets to OG1\u001b[39;00m\n\u001b[0;32m---> 11\u001b[0m     ds_all \u001b[38;5;241m=\u001b[39m \u001b[43mconvertOG1\u001b[49m\u001b[38;5;241;43m.\u001b[39;49m\u001b[43mconvert_to_OG1\u001b[49m\u001b[43m(\u001b[49m\u001b[43mlist_datasets\u001b[49m\u001b[43m)\u001b[49m\n\u001b[1;32m     13\u001b[0m     \u001b[38;5;28;01mif\u001b[39;00m save:\n\u001b[1;32m     14\u001b[0m         \u001b[38;5;66;03m# Generate the output file path\u001b[39;00m\n\u001b[1;32m     15\u001b[0m         \u001b[38;5;66;03m# Need to get the serial number of the platform for this\u001b[39;00m\n\u001b[1;32m     16\u001b[0m \u001b[38;5;66;03m#        output_file = os.path.join(output_dir, id_str + '_' + ds_all.start_date + '_delayed.nc')\u001b[39;00m\n\u001b[1;32m     17\u001b[0m         output_file \u001b[38;5;241m=\u001b[39m os\u001b[38;5;241m.\u001b[39mpath\u001b[38;5;241m.\u001b[39mjoin(\u001b[38;5;124m'\u001b[39m\u001b[38;5;124m../data\u001b[39m\u001b[38;5;124m'\u001b[39m, ds_all\u001b[38;5;241m.\u001b[39mattrs[\u001b[38;5;124m'\u001b[39m\u001b[38;5;124mid\u001b[39m\u001b[38;5;124m'\u001b[39m] \u001b[38;5;241m+\u001b[39m \u001b[38;5;124m'\u001b[39m\u001b[38;5;124m.nc\u001b[39m\u001b[38;5;124m'\u001b[39m)\n",
      "File \u001b[0;32m~/Cloudfree/gitlab-cloudfree/seagliderOG1/seagliderOG1/convertOG1.py:80\u001b[0m, in \u001b[0;36mconvert_to_OG1\u001b[0;34m(datasets, contrib_to_append)\u001b[0m\n\u001b[1;32m     77\u001b[0m     concatenated_ds\u001b[38;5;241m.\u001b[39mattrs[key] \u001b[38;5;241m=\u001b[39m value\n\u001b[1;32m     79\u001b[0m \u001b[38;5;66;03m# Construct the platform serial number\u001b[39;00m\n\u001b[0;32m---> 80\u001b[0m PLATFORM_SERIAL_NUMBER \u001b[38;5;241m=\u001b[39m \u001b[38;5;124m'\u001b[39m\u001b[38;5;124msg\u001b[39m\u001b[38;5;124m'\u001b[39m \u001b[38;5;241m+\u001b[39m \u001b[43mds_new\u001b[49m\u001b[38;5;241;43m.\u001b[39;49m\u001b[43mattrs\u001b[49m\u001b[43m[\u001b[49m\u001b[38;5;124;43m'\u001b[39;49m\u001b[38;5;124;43mid\u001b[39;49m\u001b[38;5;124;43m'\u001b[39;49m\u001b[43m]\u001b[49m[\u001b[38;5;241m1\u001b[39m:\u001b[38;5;241m4\u001b[39m]\n\u001b[1;32m     81\u001b[0m \u001b[38;5;28mprint\u001b[39m(PLATFORM_SERIAL_NUMBER)\n\u001b[1;32m     82\u001b[0m ds_new[\u001b[38;5;124m'\u001b[39m\u001b[38;5;124mPLATFORM_SERIAL_NUMBER\u001b[39m\u001b[38;5;124m'\u001b[39m] \u001b[38;5;241m=\u001b[39m PLATFORM_SERIAL_NUMBER\n",
      "\u001b[0;31mKeyError\u001b[0m: 'id'"
     ]
    }
   ],
   "source": [
    "importlib.reload(readers)\n",
    "#input_loc = \"https://www.ncei.noaa.gov/data/oceans/glider/seaglider/uw/015/20040924/\"\n",
    "input_loc = \"https://www.ncei.noaa.gov/data/oceans/glider/seaglider/uw/014/20040924/\"\n",
    "input_loc = \"https://www.ncei.noaa.gov/data/oceans/glider/seaglider/uw/004/20031002/\"\n",
    "\n",
    "def process_and_save_data(input_location, save=False, output_dir='../data'):\n",
    "    # Load and concatenate all datasets from the server\n",
    "    list_datasets = readers.read_basestation(input_location)\n",
    "    \n",
    "    # Convert the list of datasets to OG1\n",
    "    ds_all = convertOG1.convert_to_OG1(list_datasets)\n",
    "    \n",
    "    if save:\n",
    "        # Generate the output file path\n",
    "        # Need to get the serial number of the platform for this\n",
    "#        output_file = os.path.join(output_dir, id_str + '_' + ds_all.start_date + '_delayed.nc')\n",
    "        output_file = os.path.join('../data', ds_all.attrs['id'] + '.nc')\n",
    "\n",
    "        # Check if the file exists and delete it if it does\n",
    "        if os.path.exists(output_file):\n",
    "            user_input = input(f\"File {output_file} already exists. Do you want to delete it? (yes/no): \")\n",
    "            if user_input.lower() != 'yes':\n",
    "                print(\"File not deleted. Exiting the process.\")\n",
    "                return ds_all\n",
    "            os.remove(output_file)\n",
    "        \n",
    "        # Save the dataset to a NetCDF file\n",
    "        convertOG1.save_dataset(ds_all, output_file)\n",
    "    \n",
    "    return ds_all\n",
    "\n",
    "# Example usage\n",
    "ds_all = process_and_save_data(input_loc, save=True)"
   ]
  },
  {
   "cell_type": "code",
   "execution_count": null,
   "metadata": {},
   "outputs": [],
   "source": []
  }
 ],
 "metadata": {
  "kernelspec": {
   "display_name": "Python 3",
   "language": "python",
   "name": "python3"
  },
  "language_info": {
   "codemirror_mode": {
    "name": "ipython",
    "version": 3
   },
   "file_extension": ".py",
   "mimetype": "text/x-python",
   "name": "python",
   "nbconvert_exporter": "python",
   "pygments_lexer": "ipython3",
   "version": "3.12.7"
  }
 },
 "nbformat": 4,
 "nbformat_minor": 2
}
