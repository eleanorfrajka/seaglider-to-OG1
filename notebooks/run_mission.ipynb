{
 "cells": [
  {
   "cell_type": "markdown",
   "metadata": {},
   "source": [
    "# Run a full mission of basestation files\n"
   ]
  },
  {
   "cell_type": "code",
   "execution_count": null,
   "metadata": {},
   "outputs": [],
   "source": [
    "import sys\n",
    "import importlib\n",
    "sys.path.append('/Users/eddifying/Cloudfree/gitlab-cloudfree/seagliderOG1')\n",
    "import warnings\n",
    "warnings.simplefilter(\"ignore\", category=Warning)"
   ]
  },
  {
   "cell_type": "code",
   "execution_count": null,
   "metadata": {},
   "outputs": [],
   "source": [
    "from seagliderOG1 import readers\n",
    "from seagliderOG1 import plotters\n",
    "from seagliderOG1 import convertOG1\n",
    "from seagliderOG1 import vocabularies\n",
    "import os"
   ]
  },
  {
   "cell_type": "code",
   "execution_count": null,
   "metadata": {},
   "outputs": [],
   "source": [
    "# To build the registry, use the following code:\n",
    "if 0:\n",
    "    mylist = fetchers.list_files_in_https_server(server)\n",
    "    fetchers.create_pooch_registry_from_directory(\"/Users/eddifying/Dropbox/data/sg015-ncei-download/\")\n",
    "    # And then add the text to fetchers.py"
   ]
  },
  {
   "cell_type": "code",
   "execution_count": null,
   "metadata": {},
   "outputs": [],
   "source": [
    "input_loc = \"https://www.ncei.noaa.gov/data/oceans/glider/seaglider/uw/015/20040924/\"\n",
    "#input_loc = \"https://www.ncei.noaa.gov/data/oceans/glider/seaglider/uw/014/20040924/\"\n",
    "\n",
    "def process_and_save_data(input_location, save=False, output_dir='../data'):\n",
    "    # Load and concatenate all datasets from the server\n",
    "    list_datasets = readers.read_basestation(input_location)\n",
    "    \n",
    "    # Convert the list of datasets to OG1\n",
    "    ds_all = convertOG1.convert_to_OG1(list_datasets)\n",
    "    \n",
    "    if save:\n",
    "        # Generate the output file path\n",
    "        # Need to get the serial number of the platform for this\n",
    "        output_file = os.path.join(output_dir, 'sg015_' + ds_all.start_date + '_delayed_temp.nc')\n",
    "        \n",
    "        # Check if the file exists and delete it if it does\n",
    "        if os.path.exists(output_file):\n",
    "            user_input = input(f\"File {output_file} already exists. Do you want to delete it? (yes/no): \")\n",
    "            if user_input.lower() != 'yes':\n",
    "                print(\"File not deleted. Exiting the process.\")\n",
    "                return ds_all\n",
    "            os.remove(output_file)\n",
    "        \n",
    "        # Save the dataset to a NetCDF file\n",
    "        convertOG1.save_dataset(ds_all, output_file)\n",
    "    \n",
    "    return ds_all\n",
    "\n",
    "# Example usage\n",
    "ds_all = process_and_save_data(input_loc, save=True)"
   ]
  },
  {
   "cell_type": "code",
   "execution_count": null,
   "metadata": {},
   "outputs": [],
   "source": []
  }
 ],
 "metadata": {
  "kernelspec": {
   "display_name": "Python 3",
   "language": "python",
   "name": "python3"
  },
  "language_info": {
   "codemirror_mode": {
    "name": "ipython",
    "version": 3
   },
   "file_extension": ".py",
   "mimetype": "text/x-python",
   "name": "python",
   "nbconvert_exporter": "python",
   "pygments_lexer": "ipython3",
   "version": "3.12.7"
  }
 },
 "nbformat": 4,
 "nbformat_minor": 2
}
