{
 "cells": [
  {
   "cell_type": "markdown",
   "metadata": {},
   "source": [
    "# Run a full mission of basestation files\n"
   ]
  },
  {
   "cell_type": "code",
   "execution_count": null,
   "metadata": {},
   "outputs": [],
   "source": [
    "import sys\n",
    "import importlib\n",
    "sys.path.append('/Users/eddifying/Cloudfree/gitlab-cloudfree/seagliderOG1')\n",
    "import warnings\n",
    "warnings.simplefilter(\"ignore\", category=Warning)"
   ]
  },
  {
   "cell_type": "code",
   "execution_count": null,
   "metadata": {},
   "outputs": [],
   "source": [
    "from seagliderOG1 import readers\n",
    "from seagliderOG1 import plotters\n",
    "from seagliderOG1 import convertOG1\n",
    "from seagliderOG1 import vocabularies\n",
    "import xarray as xr\n",
    "import os"
   ]
  },
  {
   "cell_type": "code",
   "execution_count": null,
   "metadata": {},
   "outputs": [],
   "source": [
    "importlib.reload(readers)\n",
    "importlib.reload(convertOG1)\n",
    "#input_loc = \"https://www.ncei.noaa.gov/data/oceans/glider/seaglider/uw/015/20040924/\"\n",
    "input_loc = \"https://www.ncei.noaa.gov/data/oceans/glider/seaglider/uw/014/20040924/\"\n",
    "input_loc = \"https://www.ncei.noaa.gov/data/oceans/glider/seaglider/uw/004/20031002/\"\n",
    "input_loc = \"https://www.ncei.noaa.gov/data/oceans/glider/seaglider/uw/008/20031002/\"\n",
    "input_loc =  \"https://www.ncei.noaa.gov/data/oceans/glider/seaglider/uw/016/20050406/\"\n",
    "\n",
    "def process_and_save_data(input_location, save=False, output_dir='../data'):\n",
    "    # Load and concatenate all datasets from the server\n",
    "    list_datasets = readers.read_basestation(input_location)\n",
    "    \n",
    "    # Convert the list of datasets to OG1\n",
    "    ds_all = convertOG1.convert_to_OG1(list_datasets)\n",
    "    \n",
    "    if save:\n",
    "        # Generate the output file path\n",
    "        # Need to get the serial number of the platform for this\n",
    "#        output_file = os.path.join(output_dir, id_str + '_' + ds_all.start_date + '_delayed.nc')\n",
    "        output_file = os.path.join('../data', ds_all.attrs['id'] + '.nc')\n",
    "\n",
    "        # Check if the file exists and delete it if it does\n",
    "        if os.path.exists(output_file):\n",
    "            user_input = input(f\"File {output_file} already exists. Do you want to delete it? (yes/no): \")\n",
    "            if user_input.lower() != 'yes':\n",
    "                print(\"File not deleted. Exiting the process.\")\n",
    "                return ds_all\n",
    "            os.remove(output_file)\n",
    "        \n",
    "        # Save the dataset to a NetCDF file\n",
    "        convertOG1.save_dataset(ds_all, output_file)\n",
    "    \n",
    "    return ds_all\n",
    "\n",
    "# Example usage\n",
    "ds_all = process_and_save_data(input_loc, save=True)"
   ]
  },
  {
   "cell_type": "code",
   "execution_count": null,
   "metadata": {},
   "outputs": [],
   "source": [
    "importlib.reload(convertOG1)\n",
    "input_loc =  \"https://www.ncei.noaa.gov/data/oceans/glider/seaglider/uw/016/20050406/\"\n",
    "save=True\n",
    "# Troubleshooting - run outside a function\n",
    "# Load and concatenate all datasets from the server\n",
    "list_datasets = readers.read_basestation(input_loc)\n",
    "\n",
    "datasets = list_datasets\n",
    "# Convert the list of datasets to OG1\n",
    "processed_datasets = []\n",
    "for ds in datasets:\n",
    "    ds_new, attr_warnings, sg_cal, dc_other, dc_log = convertOG1.convert_to_OG1_dataset(ds)\n",
    "    processed_datasets.append(ds_new)\n",
    "\n",
    "concatenated_ds = xr.concat(processed_datasets, dim='N_MEASUREMENTS')\n",
    "concatenated_ds = concatenated_ds.sortby('TIME')\n",
    "\n",
    "# Apply attributes\n",
    "ordered_attributes = update_dataset_attributes(datasets[0], contrib_to_append)\n",
    "for key, value in ordered_attributes.items():\n",
    "    concatenated_ds.attrs[key] = value\n",
    "\n",
    "# Construct the platform serial number\n",
    "PLATFORM_SERIAL_NUMBER = 'sg' + concatenated_ds.attrs['id'][1:4]\n",
    "print(PLATFORM_SERIAL_NUMBER)\n",
    "concatenated_ds['PLATFORM_SERIAL_NUMBER'] = PLATFORM_SERIAL_NUMBER\n",
    "concatenated_ds['PLATFORM_SERIAL_NUMBER'].attrs['long_name'] = \"glider serial number\"\n",
    "\n",
    "# Construct the unique identifier attribute\n",
    "id = f\"{PLATFORM_SERIAL_NUMBER}_{concatenated_ds.start_date}_delayed\"\n",
    "concatenated_ds.attrs['id'] = id\n",
    "\n",
    "if save:\n",
    "    # Generate the output file path\n",
    "    # Need to get the serial number of the platform for this\n",
    "#        output_file = os.path.join(output_dir, id_str + '_' + ds_all.start_date + '_delayed.nc')\n",
    "    output_file = os.path.join('../data', concatenated_ds.attrs['id'] + '.nc')\n",
    "\n",
    "    # Check if the file exists and delete it if it does\n",
    "    if os.path.exists(output_file):\n",
    "        user_input = input(f\"File {output_file} already exists. Do you want to delete it? (yes/no): \")\n",
    "        if user_input.lower() != 'yes':\n",
    "            print(\"File not deleted. Exiting the process.\")\n",
    "            return ds_all\n",
    "        os.remove(output_file)\n",
    "    \n",
    "    # Save the dataset to a NetCDF file\n",
    "    convertOG1.save_dataset(concatenated_ds, output_file)"
   ]
  },
  {
   "cell_type": "code",
   "execution_count": null,
   "metadata": {},
   "outputs": [],
   "source": [
    "processed_datasets\n",
    "coordinates_dict = {i: list(ds.coords) for i, ds in enumerate(processed_datasets)}\n",
    "coordinates_dict\n",
    "\n",
    "missing_longitude = [i for i, coords in coordinates_dict.items() if 'LONGITUDE' not in coords]\n",
    "missing_longitude\n",
    "\n",
    "datasets_with_longitude = [i for i, coords in coordinates_dict.items() if 'LONGITUDE' in coords]\n",
    "datasets_with_longitude\n",
    "\n",
    "import matplotlib.pyplot as plt\n"
   ]
  },
  {
   "cell_type": "code",
   "execution_count": null,
   "metadata": {},
   "outputs": [],
   "source": [
    "print(list(ds.variables.keys()))\n",
    "print(datasets[0])\n"
   ]
  },
  {
   "cell_type": "code",
   "execution_count": null,
   "metadata": {},
   "outputs": [],
   "source": [
    "concatenated_ds = xr.concat(processed_datasets, dim='N_MEASUREMENTS')\n",
    "concatenated_ds = concatenated_ds.sortby('TIME')\n",
    "# Generate the output file path\n",
    "# Need to get the serial number of the platform for this\n",
    "#        output_file = os.path.join(output_dir, id_str + '_' + ds_all.start_date + '_delayed.nc')\n",
    "output_file = os.path.join('../data', concatenated_ds.attrs['id'] + '.nc')\n",
    "\n",
    "# Check if the file exists and delete it if it does\n",
    "if os.path.exists(output_file):\n",
    "    user_input = input(f\"File {output_file} already exists. Do you want to delete it? (yes/no): \")\n",
    "    if user_input.lower() != 'yes':\n",
    "        print(\"File not deleted. Exiting the process.\")\n",
    "        return concatenated_ds\n",
    "    os.remove(output_file)\n",
    "\n",
    "# Save the dataset to a NetCDF file\n",
    "convertOG1.save_dataset(concatenated_ds, output_file)"
   ]
  },
  {
   "cell_type": "code",
   "execution_count": null,
   "metadata": {},
   "outputs": [],
   "source": []
  }
 ],
 "metadata": {
  "kernelspec": {
   "display_name": "Python 3",
   "language": "python",
   "name": "python3"
  },
  "language_info": {
   "codemirror_mode": {
    "name": "ipython",
    "version": 3
   },
   "file_extension": ".py",
   "mimetype": "text/x-python",
   "name": "python",
   "nbconvert_exporter": "python",
   "pygments_lexer": "ipython3",
   "version": "3.12.7"
  }
 },
 "nbformat": 4,
 "nbformat_minor": 2
}
