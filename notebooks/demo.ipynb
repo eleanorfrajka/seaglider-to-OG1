{
 "cells": [
  {
   "cell_type": "markdown",
   "id": "c6a29764-f39c-431c-8e77-fbc6bfe20f01",
   "metadata": {},
   "source": [
    "# Demo"
   ]
  },
  {
   "cell_type": "markdown",
   "id": "97e9729d-4db2-419c-bbc2-a2078fc9b7dc",
   "metadata": {},
   "source": [
    "\n",
    "The purpose of this notebook is to create a minimum working example of seaglider data in OG1 format. The test case is to convert sg015 data from the Labrador Sea in September 2004.\n",
    "\n",
    "- OG1 format is a newly agreed format (since June 2024) for glider data sets from various platforms (e.g., Seaglider, Slocum, Seaexplorer).  It lives on github here: (https://github.com/OceanGlidersCommunity/OG-format-user-manual).\n",
    "- OG1 manual: https://oceangliderscommunity.github.io/OG-format-user-manual/OG_Format.html\n"
   ]
  },
  {
   "cell_type": "code",
   "execution_count": null,
   "id": "e8427334",
   "metadata": {},
   "outputs": [],
   "source": [
    "import sys\n",
    "import importlib\n",
    "sys.path.append('/Users/eddifying/Cloudfree/gitlab-cloudfree/seagliderOG1')\n",
    "import glidertools as gt\n",
    "#importlib.reload(fetchers)\n",
    "#importlib.reload(plotters)"
   ]
  },
  {
   "cell_type": "code",
   "execution_count": null,
   "id": "7c437da6-c3b3-4c48-b272-ee5b8ac27f69",
   "metadata": {},
   "outputs": [],
   "source": [
    "import matplotlib.pyplot as plt\n",
    "import numpy as np\n",
    "from seagliderOG1 import fetchers\n",
    "from seagliderOG1 import tools\n",
    "from seagliderOG1 import plotters\n",
    "import xarray as xr\n",
    "\n",
    "#from pathlib import Path"
   ]
  },
  {
   "cell_type": "markdown",
   "id": "dd041858-c498-4654-a7c8-1731beb839fc",
   "metadata": {},
   "source": [
    "## Load seaglider data in native format\n",
    "\n",
    "This has three ways to load a glider dataset.\n",
    "\n",
    "Load an example dataset using `seagliderOG1.fetchers.load_sample_dataset`\n",
    "\n",
    "Alternatively, use your own with e.g. `ds = xr.open_dataset('/path/to/yourfile.nc')`"
   ]
  },
  {
   "cell_type": "markdown",
   "id": "e77b310d",
   "metadata": {},
   "source": [
    "### Load a sample dataset\n",
    "\n",
    "These data are hosted (currently) on dropbox."
   ]
  },
  {
   "cell_type": "code",
   "execution_count": null,
   "id": "1c0eae69",
   "metadata": {},
   "outputs": [],
   "source": [
    "# List of available datasets\n",
    "file_list = ['p0150500_20050213.nc', 'p0150501_20050213.nc', 'p0150502_20050214.nc', 'p0150503_20050214.nc', 'p0150504_20050215.nc'];\n",
    "\n",
    "# Loads one dataset (p0150500_20050213.nc)\n",
    "ds = fetchers.load_sample_dataset()\n",
    "plotters.plot_profile_depth(ds)"
   ]
  },
  {
   "cell_type": "markdown",
   "id": "dc0a27f3",
   "metadata": {},
   "source": [
    "### Load dataset from local machine\n",
    "\n",
    "- For local data in the directory `input_dir`\n",
    "- Creates a plot of ctd_depth against ctd_time.\n"
   ]
  },
  {
   "cell_type": "code",
   "execution_count": null,
   "id": "9d202485",
   "metadata": {},
   "outputs": [],
   "source": [
    "# Specify the input directory on your local machine\n",
    "input_dir = \"/Users/eddifying/Dropbox/data/sg015-ncei-download\"\n",
    "\n",
    "# Load and concatenate all datasets in the input directory\n",
    "# Optionally, specify the range of profiles to load (start_profile, end_profile)\n",
    "ds_all = fetchers.load_dataset_from_directory(input_dir, start_profile=500, end_profile=501)\n",
    "\n",
    "# Simple plot of depth against time\n",
    "plotters.plot_profile_depth(ds_all)"
   ]
  },
  {
   "cell_type": "markdown",
   "id": "fa3f9e81",
   "metadata": {},
   "source": [
    "### Load data from the NCEI server\n",
    "\n",
    "- Data from the sg015 mission in the Labrador Sea (https://www.ncei.noaa.gov/access/metadata/landing-page/bin/iso?id=gov.noaa.nodc:0111844), dataset identifier gov.noaa.nodc:0111844.\n"
   ]
  },
  {
   "cell_type": "code",
   "execution_count": null,
   "id": "4ac290a2",
   "metadata": {},
   "outputs": [],
   "source": [
    "# Specify the server where data are located\n",
    "server = \"https://www.ncei.noaa.gov/data/oceans/glider/seaglider/uw/015/20040924/\"\n",
    "\n",
    "# This was necessary to get an initial file list\n",
    "# mylist = fetchers.list_files_in_https_server(server)\n",
    "# fetchers.create_pooch_registry_from_directory(\"/Users/eddifying/Dropbox/data/sg015-ncei-download/\")\n",
    "\n",
    "# Load and concatenate all datasets from the server, optionally specifying the range of profiles to load\n",
    "ds_all = fetchers.load_dataset_from_online(server, start_profile=500, end_profile=504)\n",
    "\n",
    "# Simple plot of depth against time\n",
    "plotters.plot_profile_depth(ds_all)"
   ]
  },
  {
   "cell_type": "markdown",
   "id": "ae17a794",
   "metadata": {},
   "source": [
    "## Start to think about renaming variables"
   ]
  },
  {
   "cell_type": "markdown",
   "id": "7561d1f1",
   "metadata": {},
   "source": [
    "### Check what variables are in the file\n",
    "\n",
    "- Here, I found it easier to use glidertools (https://glidertools.readthedocs.io/en/latest/loading.html#working-with-seaglider-base-station-files) to get a quick look at what's in there."
   ]
  },
  {
   "cell_type": "code",
   "execution_count": null,
   "id": "ef988d2d",
   "metadata": {},
   "outputs": [],
   "source": [
    "# Print the variables from one file\n",
    "filenames = input_dir + \"/\" + file_list[0]\n",
    "print(filenames)\n",
    "\n",
    "gt.load.seaglider_show_variables(filenames)"
   ]
  },
  {
   "cell_type": "markdown",
   "id": "f053a20b",
   "metadata": {},
   "source": [
    "### Check the attributes in the basestation file\n",
    "\n",
    "There was no equivalent in glidertools, so I wrote one and put it in `seagliderOG1.plotters`"
   ]
  },
  {
   "cell_type": "code",
   "execution_count": null,
   "id": "9750396e",
   "metadata": {},
   "outputs": [],
   "source": [
    "file_list = ['p0150500_20050213.nc', 'p0150501_20050213.nc', 'p0150502_20050214.nc', 'p0150503_20050214.nc', 'p0150504_20050215.nc'];\n",
    "filenames = input_dir + \"/\" + file_list[0]\n",
    "plotters.show_attributes(filenames)"
   ]
  },
  {
   "cell_type": "code",
   "execution_count": null,
   "id": "eee45495",
   "metadata": {},
   "outputs": [],
   "source": [
    "from datetime import datetime\n",
    "\n",
    "title = \"OceanGliders trajectory file\"\n",
    "platform = \"sub-surface gliders\"\n",
    "platform_vocabulary = \"https://vocab.nerc.ac.uk/collection/L06/current/27/\"\n",
    "time_str = ds_all.time_coverage_start.replace('_', '').replace(':', '').rstrip('Z')\n",
    "id = ds_all.platform_id + '_' + time_str + '_delayed'\n",
    "naming_authority = ds_all.naming_authority\n",
    "institution = ds_all.institution\n",
    "time_coverage_start = time_str\n",
    "time_coverage_end = ds_all.time_coverage_end.replace('_', '').replace(':', '').rstrip('Z')\n",
    "site = ds_all.summary\n",
    "project = ds_all.project\n",
    "contributor_name = ds_all.creator_name + ', ' + ds_all.contributor_name\n",
    "contributor_email = ds_all.creator_email\n",
    "contributor_role = \"PI, \" + ds_all.contributor_role\n",
    "contributor_role_vocabulary = \"http://vocab.nerc.ac.uk/search_nvs/W08/\"\n",
    "uri = ds_all.uuid\n",
    "web_link = \"https://www.ncei.noaa.gov/access/metadata/landing-page/bin/iso?id=gov.noaa.nodc:0111844\"\n",
    "comment = \"history: \" + ds_all.history\n",
    "start_date = time_coverage_start\n",
    "date_created = datetime.now().strftime('%Y%m%dT%H%M%S')\n",
    "featureType = \"trajectory\"\n",
    "Conventions = \"CF-1.10,OG-1.0\"\n",
    "\n",
    "attr_as_is = [\n",
    "    \"geospatial_lat_min\",\n",
    "    \"geospatial_lat_max\",\n",
    "    \"geospatial_lon_min\",\n",
    "    \"geospatial_lon_max\",\n",
    "    \"geospatial_vertical_min\",\n",
    "    \"geospatial_vertical_max\",\n",
    "]\n",
    "\n",
    "GPS_variables = [\n",
    "    \"log_gps_lat\",\n",
    "    \"log_gps_lon\",\n",
    "    \"log_gps_time\"\n",
    "]\n",
    "\n",
    "names = [\n",
    "    'ctd_depth',\n",
    "    'ctd_time',\n",
    "    'ctd_pressure',\n",
    "    'salinity',\n",
    "    'temperature',\n",
    "    'salinity_qc',\n",
    "    'temperature_qc',\n",
    "    'pressure',\n",
    "    'vert_speed',\n",
    "    'horz_speed'\n",
    "]\n",
    "\n"
   ]
  },
  {
   "cell_type": "code",
   "execution_count": null,
   "id": "96550042",
   "metadata": {},
   "outputs": [],
   "source": [
    "import datetime\n",
    "# Define dictionaries for renaming\n",
    "#ds_single = xr.open_dataset(file_list[0])\n",
    "\n",
    "dims_rename_dict = {'sg_data_point': 'N_MEASUREMENTS'}\n",
    "coords_rename_dict = {\n",
    "    'longitude': 'LONGITUDE',\n",
    "    'latitude': 'LATITUDE',\n",
    "    'ctd_time': 'TIME',\n",
    "    'ctd_depth': 'DEPTH'\n",
    "}\n",
    "vars_rename_dict = {\n",
    "    'conductivity': 'CNDC',\n",
    "    'temperature': 'TEMP',\n",
    "    'salinity': 'PSAL', # after thermal lag correction\n",
    "    'conductivity_qc': 'CNDC_QC',\n",
    "    'salinity_qc': 'PSAL_QC',\n",
    "    'temperature_qc': 'TEMP_QC',\n",
    "    'vert_speed': 'VERT_GLIDER_SPEED', # This is using the hdm\n",
    "    'horz_speed': 'HORZ_GLIDER_SPEED', # This is using the hdm\n",
    "    'density': 'DENSITY',\n",
    "}\n",
    "\n",
    "def create_renamed_dataset(ds, dims_rename_dict, coords_rename_dict, vars_rename_dict):\n",
    "    # Apply renaming using the dictionaries\n",
    "    ds_renamed = ds.rename_dims(dims_rename_dict)\n",
    "    ds_renamed = ds_renamed.rename_vars(coords_rename_dict)\n",
    "    ds_renamed = ds_renamed.rename_vars(vars_rename_dict)\n",
    "    \n",
    "    return ds_renamed\n",
    "\n",
    "# Example usage\n",
    "ds_renamed = create_renamed_dataset(ds_all, dims_rename_dict, coords_rename_dict, vars_rename_dict)\n",
    "print(ds_renamed)"
   ]
  },
  {
   "cell_type": "code",
   "execution_count": null,
   "id": "218b67b0",
   "metadata": {},
   "outputs": [],
   "source": [
    "\n",
    "\n",
    "def process_dataset(file_list, dims_rename_dict, coords_rename_dict, vars_rename_dict):\n",
    "\n",
    "    ds_single = xr.open_dataset(file_list[0])\n",
    "\n",
    "    # Apply renaming using the dictionaries\n",
    "    ds_single = ds_single.rename_dims(dims_rename_dict)\n",
    "    ds_single = ds_single.rename_vars(coords_rename_dict)\n",
    "    ds_single = ds_single.rename_vars(vars_rename_dict)\n",
    "\n",
    "    # Remove variables not in vars_rename_dict().values\n",
    "    vars_to_keep = set(vars_rename_dict.values())\n",
    "    ds_renamed = ds_single[vars_to_keep]\n",
    "\n",
    "    # Assign trajectory coordinate and drop the original trajectory variable\n",
    "    ds_renamed = ds_renamed.assign_coords(TRAJECTORY=ds_single['trajectory'])\n",
    "    ds_renamed = ds_renamed.drop_vars('trajectory')\n",
    "\n",
    "    # Convert start_time to deployment_time\n",
    "    start_time = ds_renamed.attrs['start_time']\n",
    "    deployment_time = datetime.datetime.fromtimestamp(start_time, datetime.UTC)\n",
    "    deployment_time_float = deployment_time.timestamp()\n",
    "\n",
    "    # Create a new variable DEPLOYMENT_TIME\n",
    "    ds_renamed['DEPLOYMENT_TIME'] = deployment_time_float\n",
    "\n",
    "    # Add metadata to the new variable\n",
    "    ds_renamed['DEPLOYMENT_TIME'].attrs['long_name'] = \"date of deployment\"\n",
    "    ds_renamed['DEPLOYMENT_TIME'].attrs['standard_name'] = \"time\"\n",
    "    ds_renamed['DEPLOYMENT_TIME'].attrs['calendar'] = \"gregorian\"\n",
    "    ds_renamed['DEPLOYMENT_TIME'].attrs['units'] = \"seconds since 1970-01-01T00:00:00Z\"\n",
    "\n",
    "    return ds_renamed\n",
    "\n",
    "# Example usage\n",
    "ds_renamed = process_dataset(file_list, dims_rename_dict, coords_rename_dict, vars_rename_dict)\n",
    "print(ds_renamed)\n"
   ]
  },
  {
   "cell_type": "code",
   "execution_count": null,
   "id": "b0c5e384",
   "metadata": {},
   "outputs": [],
   "source": [
    "def plot_speeds(ds):\n",
    "    fig, ax = plt.subplots(2, 1, figsize=(12, 8), sharex=True)\n",
    "\n",
    "    # Plot horizontal speed\n",
    "    ax[0].plot(ds['ctd_time'], ds['horz_speed'], label='Horizontal Speed', color='b')\n",
    "    ax[0].set_ylabel('Horizontal Speed (m/s)')\n",
    "    ax[0].legend()\n",
    "    ax[0].grid(True)\n",
    "\n",
    "    # Plot vertical speed\n",
    "    ax[1].plot(ds['ctd_time'], ds['vert_speed'], label='Vertical Speed', color='r')\n",
    "    ax[1].set_ylabel('Vertical Speed (m/s)')\n",
    "    ax[1].set_xlabel('Time')\n",
    "    ax[1].legend()\n",
    "    ax[1].grid(True)\n",
    "\n",
    "    plt.tight_layout()\n",
    "    plt.show()\n",
    "\n",
    "# Example usage\n",
    "plot_speeds(ds_all)"
   ]
  },
  {
   "cell_type": "code",
   "execution_count": null,
   "id": "8ca89b5a-37aa-43db-97a4-d25a8a140a30",
   "metadata": {
    "vscode": {
     "languageId": "ruby"
    }
   },
   "outputs": [],
   "source": [
    "def preprocess(ds):\n",
    "    # Apply renaming using the dictionaries\n",
    "    ds = ds.rename_dims(dims_rename_dict)\n",
    "    ds = ds.rename_vars(coords_rename_dict)\n",
    "    ds = ds.rename_vars(vars_rename_dict)\n",
    "\n",
    "    # Remove variables not in vars_rename_dict().values\n",
    "    vars_to_keep = set(vars_rename_dict.values())\n",
    "    ds = ds[vars_to_keep]\n",
    "\n",
    "    # Assign trajectory coordinate and drop the original trajectory variable\n",
    "#    ds = ds.assign_coords(TRAJECTORY=ds['trajectory'])\n",
    "#    ds = ds.drop_vars('trajectory')\n",
    "\n",
    "    # Convert start_time to deployment_time\n",
    "    start_time = ds.attrs['start_time']\n",
    "    deployment_time = datetime.datetime.fromtimestamp(start_time, datetime.UTC)\n",
    "    deployment_time_float = deployment_time.timestamp()\n",
    "\n",
    "    # Create a new variable DEPLOYMENT_TIME\n",
    "    ds['DEPLOYMENT_TIME'] = deployment_time_float\n",
    "\n",
    "    # Add metadata to the new variable\n",
    "    ds['DEPLOYMENT_TIME'].attrs['long_name'] = \"date of deployment\"\n",
    "    ds['DEPLOYMENT_TIME'].attrs['standard_name'] = \"time\"\n",
    "    ds['DEPLOYMENT_TIME'].attrs['calendar'] = \"gregorian\"\n",
    "    ds['DEPLOYMENT_TIME'].attrs['units'] = \"seconds since 1970-01-01T00:00:00Z\"\n",
    "\n",
    "    return ds\n",
    "\n",
    "# Use xr.open_mfdataset to open multiple files and combine them along TIME\n",
    "ds_combined = xr.open_mfdataset(file_list, combine='nested', concat_dim='TIME', preprocess=preprocess)\n",
    "print(ds_combined)\n",
    "\n"
   ]
  },
  {
   "cell_type": "markdown",
   "id": "6b93a2ef",
   "metadata": {},
   "source": [
    "# Basic statistics of dataset"
   ]
  },
  {
   "cell_type": "code",
   "execution_count": null,
   "id": "c6fd094f",
   "metadata": {},
   "outputs": [],
   "source": [
    "# Basic plot of the location of the dataset in space/time\n",
    "#tools.plot_glider_track(ds)\n"
   ]
  },
  {
   "cell_type": "code",
   "execution_count": null,
   "id": "620e5523",
   "metadata": {},
   "outputs": [],
   "source": [
    "# Basic diagnostics of the gridding in the dataset\n",
    "#tools.plot_grid_spacing_histograms(ds)"
   ]
  },
  {
   "cell_type": "code",
   "execution_count": null,
   "id": "6bf7fb8d",
   "metadata": {},
   "outputs": [],
   "source": [
    "# Basic diagnostics of the watermass properties\n",
    "#tools.plot_ts_histograms(ds)\n"
   ]
  },
  {
   "cell_type": "markdown",
   "id": "4f0504af-b61b-4369-b2d9-f41101bf06d3",
   "metadata": {},
   "source": [
    "### Check basic data and water column structure first"
   ]
  },
  {
   "cell_type": "code",
   "execution_count": null,
   "id": "df3badf9-77bc-4980-bbcf-667ecbe7ac83",
   "metadata": {},
   "outputs": [],
   "source": [
    "#tools.plot_basic_vars(ds,v_res=1, start_prof=1, end_prof=int(ds.PROFILE_NUMBER.max()))"
   ]
  }
 ],
 "metadata": {
  "kernelspec": {
   "display_name": "Python 3",
   "language": "python",
   "name": "python3"
  },
  "language_info": {
   "codemirror_mode": {
    "name": "ipython",
    "version": 3
   },
   "file_extension": ".py",
   "mimetype": "text/x-python",
   "name": "python",
   "nbconvert_exporter": "python",
   "pygments_lexer": "ipython3",
   "version": "3.12.7"
  }
 },
 "nbformat": 4,
 "nbformat_minor": 5
}
