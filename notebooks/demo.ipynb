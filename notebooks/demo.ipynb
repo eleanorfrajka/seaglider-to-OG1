{
 "cells": [
  {
   "cell_type": "markdown",
   "id": "c6a29764-f39c-431c-8e77-fbc6bfe20f01",
   "metadata": {},
   "source": [
    "# Demo: Convert multiple `*.nc` files\n",
    "\n",
    "The purpose of this notebook is to create a minimum working example of converting seaglider data to OG1 format, operating on a url or a local directory containing multiple basestation files in netCDF format. The test case is to convert sg015 data from the Labrador Sea in September 2004.\n",
    "\n",
    "- OG1 format is a newly agreed format (since June 2024) for glider data sets from various platforms (e.g., Seaglider, Slocum, Seaexplorer).  It lives on github here: (https://github.com/OceanGlidersCommunity/OG-format-user-manual).\n",
    "- OG1 manual: https://oceangliderscommunity.github.io/OG-format-user-manual/OG_Format.html"
   ]
  },
  {
   "cell_type": "code",
   "execution_count": null,
   "id": "ff94b30e",
   "metadata": {},
   "outputs": [],
   "source": [
    "# This cell imports for development work\n",
    "import sys\n",
    "import importlib\n",
    "sys.path.append('/Users/eddifying/Cloudfree/gitlab-cloudfree/seagliderOG1')\n",
    "import warnings\n",
    "warnings.simplefilter(\"ignore\", category=Warning)"
   ]
  },
  {
   "cell_type": "code",
   "execution_count": null,
   "id": "6a1920f3",
   "metadata": {},
   "outputs": [],
   "source": [
    "from seagliderOG1 import readers\n",
    "from seagliderOG1 import plotters\n",
    "from seagliderOG1 import convertOG1\n",
    "import xarray as xr\n",
    "import os"
   ]
  },
  {
   "cell_type": "markdown",
   "id": "dd041858-c498-4654-a7c8-1731beb839fc",
   "metadata": {},
   "source": [
    "## Load Seaglider data in native format\n",
    "\n",
    "This has three ways to load a glider dataset.\n",
    "\n",
    "Load an example dataset using `seagliderOG1.fetchers.load_sample_dataset`\n",
    "\n",
    "Alternatively, use your own with e.g. `ds = xr.open_dataset('/path/to/yourfile.nc')`"
   ]
  },
  {
   "cell_type": "markdown",
   "id": "e77b310d",
   "metadata": {},
   "source": [
    "### Load a sample dataset\n",
    "\n",
    "These data are hosted (currently) on dropbox."
   ]
  },
  {
   "cell_type": "code",
   "execution_count": null,
   "id": "1c0eae69",
   "metadata": {},
   "outputs": [],
   "source": [
    "# List of available datasets\n",
    "file_list = ['p0150500_20050213.nc', 'p0150501_20050213.nc', 'p0150502_20050214.nc', 'p0150503_20050214.nc', 'p0150504_20050215.nc'];\n",
    "\n",
    "# Loads one dataset (p0150500_20050213.nc)\n",
    "ds = readers.load_sample_dataset()\n",
    "\n",
    "ds_OG1 = convertOG1.convert_to_OG1(ds)\n",
    "\n",
    "# Check the results - uncomment the following lines to either generate a plot or show the variables.\n",
    "#plotters.plot_profile_depth(ds)\n",
    "#plotters.show_variables(ds_OG1)"
   ]
  },
  {
   "cell_type": "markdown",
   "id": "dc0a27f3",
   "metadata": {},
   "source": [
    "### Load dataset from local machine\n",
    "\n",
    "- For local data in the directory `input_dir`\n",
    "- Creates a plot of ctd_depth against ctd_time.\n"
   ]
  },
  {
   "cell_type": "code",
   "execution_count": null,
   "id": "9d202485",
   "metadata": {},
   "outputs": [],
   "source": [
    "# Specify the input directory on your local machine\n",
    "input_dir = \"/Users/eddifying/Dropbox/data/sg015-ncei-download\"\n",
    "\n",
    "# Load and concatenate all datasets in the input directory\n",
    "# Optionally, specify the range of profiles to load (start_profile, end_profile)\n",
    "list_datasets = readers.read_basestation(input_dir, start_profile=500, end_profile=503)\n",
    "\n",
    "# Convert the list of datasets to OG1\n",
    "ds_all = convertOG1.convert_to_OG1(list_datasets)\n",
    "\n",
    "# Generate a simple plot\n",
    "plotters.plot_profile_depth(ds_all)\n",
    "#plotters.show_contents(ds_all,'attrs')"
   ]
  },
  {
   "cell_type": "markdown",
   "id": "fa3f9e81",
   "metadata": {},
   "source": [
    "### Load data from the NCEI server\n",
    "\n",
    "- Data from the sg015 mission in the Labrador Sea (https://www.ncei.noaa.gov/access/metadata/landing-page/bin/iso?id=gov.noaa.nodc:0111844), dataset identifier gov.noaa.nodc:0111844.\n"
   ]
  },
  {
   "cell_type": "code",
   "execution_count": null,
   "id": "4ac290a2",
   "metadata": {},
   "outputs": [],
   "source": [
    "# Specify the server where data are located\n",
    "server = \"https://www.ncei.noaa.gov/data/oceans/glider/seaglider/uw/015/20040924/\"\n",
    "\n",
    "# Load and concatenate all datasets from the server, optionally specifying the range of profiles to load\n",
    "list_datasets = readers.read_basestation(server, start_profile=500, end_profile=503)\n",
    "\n",
    "# Convert the list of datasets to OG1\n",
    "ds_all = convertOG1.convert_to_OG1(list_datasets)\n",
    "\n",
    "output_file = os.path.join('../data/','test.nc')\n",
    "if os.path.exists(output_file):\n",
    "    os.remove(output_file)\n",
    "\n",
    "# Writer which catches errors in data types (DType errors) when using xr.to_netcdf()\n",
    "convertOG1.save_dataset(ds_all, output_file)\n",
    "\n",
    "# Load the data saved\n",
    "ds = xr.open_dataset(output_file)\n",
    "\n",
    "# Generate a simple plot\n",
    "#plotters.show_contents(ds_all,'attrs')\n",
    "plotters.plot_depth_colored(ds, color_by='PROFILE_NUMBER')\n"
   ]
  }
 ],
 "metadata": {
  "kernelspec": {
   "display_name": "Python 3",
   "language": "python",
   "name": "python3"
  },
  "language_info": {
   "codemirror_mode": {
    "name": "ipython",
    "version": 3
   },
   "file_extension": ".py",
   "mimetype": "text/x-python",
   "name": "python",
   "nbconvert_exporter": "python",
   "pygments_lexer": "ipython3",
   "version": "3.12.7"
  }
 },
 "nbformat": 4,
 "nbformat_minor": 5
}
