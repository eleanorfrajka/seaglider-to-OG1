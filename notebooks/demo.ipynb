{
 "cells": [
  {
   "cell_type": "markdown",
   "id": "c6a29764-f39c-431c-8e77-fbc6bfe20f01",
   "metadata": {},
   "source": [
    "# Eleanor's scratch file"
   ]
  },
  {
   "cell_type": "markdown",
   "id": "97e9729d-4db2-419c-bbc2-a2078fc9b7dc",
   "metadata": {},
   "source": [
    "\n",
    "The purpose of this notebook is to demostrate the functionality of glidertests functions. \n",
    "This notebooks can be used to diagnose issues within your glider data. We have added suggested processing in some cases."
   ]
  },
  {
   "cell_type": "code",
   "execution_count": 17,
   "id": "e8427334",
   "metadata": {},
   "outputs": [],
   "source": [
    "import sys\n",
    "import importlib\n",
    "sys.path.append('/Users/eddifying/Cloudfree/gitlab-cloudfree/glidertest')\n",
    "import glidertools as gt"
   ]
  },
  {
   "cell_type": "code",
   "execution_count": 26,
   "id": "7c437da6-c3b3-4c48-b272-ee5b8ac27f69",
   "metadata": {},
   "outputs": [],
   "source": [
    "import matplotlib.pyplot as plt\n",
    "import numpy as np\n",
    "from glidertest import fetchers\n",
    "from glidertest import tools\n",
    "import xarray as xr\n",
    "\n",
    "from pathlib import Path"
   ]
  },
  {
   "cell_type": "code",
   "execution_count": 19,
   "id": "5d67cdb7",
   "metadata": {},
   "outputs": [
    {
     "name": "stdout",
     "output_type": "stream",
     "text": [
      "2023.5.0\n"
     ]
    }
   ],
   "source": [
    "print(xr.__version__)"
   ]
  },
  {
   "cell_type": "markdown",
   "id": "dd041858-c498-4654-a7c8-1731beb839fc",
   "metadata": {},
   "source": [
    "### Load dataset\n",
    "\n",
    "Load an example dataset using `glidertest.fetchers.load_sample_dataset`\n",
    "\n",
    "Alternatively, use your own with e.g. `ds = xr.open_dataset('/path/to/yourfile.nc')`"
   ]
  },
  {
   "cell_type": "code",
   "execution_count": 23,
   "id": "c336267e-b924-4bcf-937a-5f0c11857da2",
   "metadata": {},
   "outputs": [],
   "source": [
    "import xarray as xr\n",
    "import glob\n",
    "\n",
    "input_dir = '/Users/eddifying/Dropbox/data/sg015-ncei-snippet/'\n",
    "\n",
    "file_list = sorted(glob.glob(f'{input_dir}/*.nc'))\n",
    "filenames = input_dir+'*.nc'\n",
    "# Load the data\n",
    "ds_single = xr.open_dataset(file_list[0])\n"
   ]
  },
  {
   "cell_type": "code",
   "execution_count": 28,
   "id": "9d202485",
   "metadata": {},
   "outputs": [
    {
     "name": "stderr",
     "output_type": "stream",
     "text": [
      "/Users/eddifying/micromamba/envs/glidertest_env/lib/python3.12/site-packages/xarray/core/concat.py:546: FutureWarning: unique with argument that is not not a Series, Index, ExtensionArray, or np.ndarray is deprecated and will raise in a future version.\n",
      "  common_dims = tuple(pd.unique([d for v in vars for d in v.dims]))\n",
      "/Users/eddifying/micromamba/envs/glidertest_env/lib/python3.12/site-packages/xarray/core/concat.py:546: FutureWarning: unique with argument that is not not a Series, Index, ExtensionArray, or np.ndarray is deprecated and will raise in a future version.\n",
      "  common_dims = tuple(pd.unique([d for v in vars for d in v.dims]))\n",
      "/Users/eddifying/micromamba/envs/glidertest_env/lib/python3.12/site-packages/xarray/core/concat.py:546: FutureWarning: unique with argument that is not not a Series, Index, ExtensionArray, or np.ndarray is deprecated and will raise in a future version.\n",
      "  common_dims = tuple(pd.unique([d for v in vars for d in v.dims]))\n"
     ]
    }
   ],
   "source": [
    "# Code from Callum\n",
    "datasets = []\n",
    "for file in Path(input_dir).glob(\"*.nc\"): # list all nc files in the current dir. Can replace \".\" with a path to your nc files\n",
    "    ds = xr.open_dataset(file)\n",
    "    ds_sg_data_point = ds.drop_dims(set(ds.dims).difference(['sg_data_point'])) # drop all dimensions other than sg_data_point\n",
    "    datasets.append(ds_sg_data_point)\n",
    "\n",
    "ds_all = xr.concat(datasets, dim='sg_data_point') # concatenate datasets along the dimension sg_data_point\n",
    "ds_all = ds_all.sortby('ctd_time')"
   ]
  },
  {
   "cell_type": "code",
   "execution_count": 32,
   "id": "711fda97",
   "metadata": {},
   "outputs": [
    {
     "name": "stdout",
     "output_type": "stream",
     "text": [
      "<xarray.Dataset>\n",
      "Dimensions:                       (sg_data_point: 6389)\n",
      "Coordinates:\n",
      "    longitude                     (sg_data_point) float64 -55.35 ... -55.45\n",
      "    latitude                      (sg_data_point) float64 58.3 58.3 ... 58.45\n",
      "    ctd_time                      (sg_data_point) datetime64[ns] 2005-02-13T1...\n",
      "    ctd_depth                     (sg_data_point) float64 0.7258 ... 0.7205\n",
      "Dimensions without coordinates: sg_data_point\n",
      "Data variables: (12/211)\n",
      "    surface_curr_north            (sg_data_point) float64 8.515 8.515 ... -17.61\n",
      "    surface_curr_east             (sg_data_point) float64 9.955 9.955 ... -13.75\n",
      "    start_of_climb_time           (sg_data_point) timedelta64[ns] 04:45:19 .....\n",
      "    sg_cal_volmax                 (sg_data_point) float64 5.15e+04 ... 5.15e+04\n",
      "    sg_cal_vbd_min_cnts           (sg_data_point) int32 177 177 177 ... 177 177\n",
      "    sg_cal_vbd_max_cnts           (sg_data_point) int32 3527 3527 ... 3527 3527\n",
      "    ...                            ...\n",
      "    conductivity                  (sg_data_point) float64 nan nan ... nan nan\n",
      "    buoyancy                      (sg_data_point) float64 nan nan ... nan nan\n",
      "    GPSE_qc                       (sg_data_point) |S1 b'1' b'1' ... b'1' b'1'\n",
      "    GPS2_qc                       (sg_data_point) |S1 b'1' b'1' ... b'1' b'1'\n",
      "    GPS1_qc                       (sg_data_point) |S1 b'1' b'1' ... b'1' b'1'\n",
      "    CTD_qc                        (sg_data_point) |S1 b'1' b'1' ... b'1' b'1'\n",
      "Attributes: (12/58)\n",
      "    quality_control_version:         1.1\n",
      "    base_station_micro_version:      3705\n",
      "    time_coverage_resolution:        PT1S\n",
      "    geospatial_vertical_max:         984.1416311048997\n",
      "    sea_name:                        Labrador Sea\n",
      "    mission:                         1\n",
      "    ...                              ...\n",
      "    disclaimer:                      Data has not been reviewed and is provid...\n",
      "    geospatial_vertical_positive:    no\n",
      "    date_created:                    2013-08-01T05:08:02Z\n",
      "    geospatial_vertical_units:       meter\n",
      "    dive_number:                     503\n",
      "    history:                         Processing start:\\n05:52:59 01 Aug 2013 ...\n"
     ]
    },
    {
     "data": {
      "image/png": "[encoded data removed]",
      "text/plain": [
       "<Figure size 640x480 with 1 Axes>"
      ]
     },
     "metadata": {},
     "output_type": "display_data"
    }
   ],
   "source": [
    "print(ds_all)\n",
    "\n",
    "ds_all.plot.scatter(x='ctd_time', y='ctd_depth', color='black')\n",
    "plt.gca().invert_yaxis()  # Invert y-axis to have depth increasing downwards\n",
    "plt.show()"
   ]
  },
  {
   "cell_type": "code",
   "execution_count": 25,
   "id": "ae17a794",
   "metadata": {},
   "outputs": [
    {
     "name": "stderr",
     "output_type": "stream",
     "text": [
      "/Users/eddifying/micromamba/envs/glidertest_env/lib/python3.12/site-packages/glidertools/load/seaglider.py:224: GliderToolsWarning: ctd_pressure was not found in the files\n",
      "  warnings.warn(msg, GliderToolsWarning)\n"
     ]
    },
    {
     "name": "stdout",
     "output_type": "stream",
     "text": [
      "\n",
      "DIMENSION: sg_data_point\n",
      "{salinity_qc, horz_speed, salinity, latitude, temperature_qc, ctd_time, vert_speed, pressure, temperature, ctd_depth, longitude}\n"
     ]
    },
    {
     "name": "stderr",
     "output_type": "stream",
     "text": [
      "100%|██████████| 5/5 [00:00<00:00, 136.41it/s]\n"
     ]
    },
    {
     "name": "stdout",
     "output_type": "stream",
     "text": [
      "\n",
      "Cannot merge data - not enough time indexed DataFrames\n",
      "Returning unmerged dataframes\n"
     ]
    }
   ],
   "source": [
    "names = [\n",
    "    'ctd_depth',\n",
    "    'ctd_time',\n",
    "    'ctd_pressure',\n",
    "    'salinity',\n",
    "    'temperature',\n",
    "    'salinity_qc',\n",
    "    'temperature_qc',\n",
    "    'pressure',\n",
    "    'vert_speed',\n",
    "    'horz_speed'\n",
    "]\n",
    "\n",
    "ds_dict = gt.load.seaglider_basestation_netCDFs(\n",
    "    filenames, names,\n",
    "    return_merged=True,\n",
    "    keep_global_attrs=False\n",
    ")"
   ]
  },
  {
   "cell_type": "code",
   "execution_count": 5,
   "id": "08506daf",
   "metadata": {},
   "outputs": [
    {
     "name": "stdout",
     "output_type": "stream",
     "text": [
      "['surface_curr_north', 'surface_curr_east', 'start_of_climb_time', 'sg_cal_volmax', 'sg_cal_vbd_min_cnts', 'sg_cal_vbd_max_cnts', 'sg_cal_vbd_cnts_per_cc', 'sg_cal_therm_expan', 'sg_cal_t_j', 'sg_cal_t_i', 'sg_cal_t_h', 'sg_cal_t_g', 'sg_cal_roll_min_cnts', 'sg_cal_roll_max_cnts', 'sg_cal_rho0', 'sg_cal_pump_rate_slope', 'sg_cal_pump_rate_intercept', 'sg_cal_pump_power_slope', 'sg_cal_pump_power_intercept', 'sg_cal_pitch_min_cnts', 'sg_cal_pitch_max_cnts', 'sg_cal_mass', 'sg_cal_hd_c', 'sg_cal_hd_b', 'sg_cal_hd_a', 'sg_cal_ctcor', 'sg_cal_cpcor', 'sg_cal_c_j', 'sg_cal_c_i', 'sg_cal_c_h', 'sg_cal_c_g', 'sg_cal_c', 'sg_cal_b', 'sg_cal_abs_compress', 'sg_cal_a', 'sg_cal_Tcor', 'sg_cal_Soc', 'sg_cal_Pcor', 'sg_cal_Foffset', 'sg_cal_Boc', 'reviewed', 'magnetic_variation', 'log__XMS_TOUTs', 'log__XMS_NAKs', 'log__SM_DEPTHo', 'log__SM_ANGLEo', 'log__CALLS', 'log_VBD_PUMP_AD_RATE_SURFACE', 'log_VBD_PUMP_AD_RATE_APOGEE', 'log_VBD_MIN', 'log_VBD_MAX', 'log_VBD_CNV', 'log_VBD_BLEED_AD_RATE', 'log_USE_BATHY', 'log_UNCOM_BLEED', 'log_T_TURN_SAMPINT', 'log_T_TURN', 'log_T_RSLEEP', 'log_T_NO_W', 'log_T_MISSION', 'log_T_GPS_CHARGE', 'log_T_GPS_ALMANAC', 'log_T_GPS', 'log_T_DIVE', 'log_TGT_RADIUS', 'log_TCM_TEMP', 'log_SPEED_FACTOR', 'log_SM_CC', 'log_R_STBD_OVSHOOT', 'log_R_PORT_OVSHOOT', 'log_ROLL_MIN', 'log_ROLL_MAX', 'log_ROLL_CNV', 'log_ROLL_AD_RATE', 'log_RHO', 'log_P_OVSHOOT', 'log_PITCH_VBD_SHIFT', 'log_PITCH_MIN', 'log_PITCH_MAX', 'log_PITCH_GAIN', 'log_PITCH_CNV', 'log_PITCH_AD_RATE', 'log_N_NOCOMM', 'log_N_GPS', 'log_N_FILEKB', 'log_MAX_BUOY', 'log_KALMAN_USE', 'log_ID', 'log_HUMID', 'log_HEAD_ERRBAND', 'log_HD_C', 'log_HD_B', 'log_HD_A', 'log_GLIDE_SLOPE', 'log_D_TGT', 'log_D_SURF', 'log_D_OFFGRID', 'log_D_NO_BLEED', 'log_D_GRID', 'log_D_FLARE', 'log_D_ABORT', 'log_DIVE', 'log_C_VBD', 'log_C_ROLL_DIVE', 'log_C_ROLL_CLIMB', 'log_C_PITCH', 'log_COURSE_BIAS', 'log_COMM_SEQ', 'log_CALL_WAIT', 'log_CALL_TRIES', 'log_CALL_NDIVES', 'log_APOGEE_PITCH', 'log_AH0_24V', 'log_AH0_10V', 'flight_avg_speed_north_gsm', 'flight_avg_speed_north', 'flight_avg_speed_east_gsm', 'flight_avg_speed_east', 'depth_avg_curr_north_gsm', 'depth_avg_curr_north', 'depth_avg_curr_east_gsm', 'depth_avg_curr_east', 'avg_latitude', 'wlbb2f', 'vert_speed_gsm', 'vert_speed', 'trajectory', 'time', 'theta', 'temperature_raw_qc', 'temperature_raw', 'temperature_qc', 'temperature', 'surface_curr_qc', 'speed_qc', 'speed_gsm', 'speed', 'sound_velocity', 'sigma_theta', 'sigma_t', 'sg_cal_mission_title', 'sg_cal_id_str', 'sg_cal_calibcomm_oxygen', 'sg_cal_calibcomm', 'sbe41', 'salinity_raw_qc', 'salinity_raw', 'salinity_qc', 'salinity', 'pressure', 'north_displacement_gsm', 'north_displacement', 'longitude_gsm', 'longitude', 'log_gps_time', 'log_gps_lon', 'log_gps_lat', 'log_TGT_NAME', 'log_TGT_LATLONG', 'log_SPEED_LIMITS', 'log_SM_CCo', 'log_SENSOR_SECS', 'log_SENSOR_MAMPS', 'log_MHEAD_RNG_PITCHd_Wd', 'log_KALMAN_Y', 'log_KALMAN_X', 'log_KALMAN_CONTROL', 'log_GPS2', 'log_GPS1', 'log_GPS', 'log_ERRORS', 'log_DEVICE_SECS', 'log_DEVICE_MAMPS', 'log_DATA_FILE_SIZE', 'log_24V_AH', 'log_10V_AH', 'latitude_gsm', 'latitude', 'horz_speed_gsm', 'horz_speed', 'hdm_qc', 'glider', 'glide_angle_gsm', 'glide_angle', 'gc_vbd_secs', 'gc_vbd_i', 'gc_vbd_ctl', 'gc_st_secs', 'gc_roll_secs', 'gc_pitch_secs', 'gc_pitch_ctl', 'gc_ob_vertv', 'gc_gcphase', 'gc_end_secs', 'gc_depth', 'gc_data_pts', 'eng_wlbb2f_redRef', 'eng_wlbb2f_redCount', 'eng_wlbb2f_fluorCount', 'eng_wlbb2f_blueRef', 'eng_wlbb2f_blueCount', 'eng_wlbb2f_VFtemp', 'eng_vbdCC', 'eng_sbect_tempFreq', 'eng_sbect_condFreq', 'eng_rollCtl', 'eng_rollAng', 'eng_pitchCtl', 'eng_pitchAng', 'eng_head', 'eng_elaps_t_0000', 'eng_elaps_t', 'eng_depth', 'east_displacement_gsm', 'east_displacement', 'dissolved_oxygen_sat', 'directives', 'depth_avg_curr_qc', 'depth', 'density', 'ctd_time', 'ctd_depth', 'conductivity_raw_qc', 'conductivity_raw', 'conductivity_qc', 'conductivity', 'buoyancy', 'GPSE_qc', 'GPS2_qc', 'GPS1_qc', 'CTD_qc']\n",
      "<xarray.Dataset>\n",
      "Dimensions:                       (sg_data_point: 1180, trajectory: 1,\n",
      "                                   gps_info: 3, gc_event: 140)\n",
      "Coordinates:\n",
      "  * trajectory                    (trajectory) int32 500\n",
      "    longitude                     (sg_data_point) float64 ...\n",
      "    latitude                      (sg_data_point) float64 ...\n",
      "    ctd_time                      (sg_data_point) datetime64[ns] ...\n",
      "    ctd_depth                     (sg_data_point) float64 ...\n",
      "Dimensions without coordinates: sg_data_point, gps_info, gc_event\n",
      "Data variables: (12/226)\n",
      "    surface_curr_north            float64 ...\n",
      "    surface_curr_east             float64 ...\n",
      "    start_of_climb_time           timedelta64[ns] ...\n",
      "    sg_cal_volmax                 float64 ...\n",
      "    sg_cal_vbd_min_cnts           int32 ...\n",
      "    sg_cal_vbd_max_cnts           int32 ...\n",
      "    ...                            ...\n",
      "    conductivity                  (sg_data_point) float64 ...\n",
      "    buoyancy                      (sg_data_point) float64 ...\n",
      "    GPSE_qc                       |S1 ...\n",
      "    GPS2_qc                       |S1 ...\n",
      "    GPS1_qc                       |S1 ...\n",
      "    CTD_qc                        |S1 ...\n",
      "Attributes: (12/58)\n",
      "    quality_control_version:         1.1\n",
      "    base_station_micro_version:      3705\n",
      "    time_coverage_resolution:        PT1S\n",
      "    geospatial_vertical_max:         989.6984588132262\n",
      "    sea_name:                        Labrador Sea\n",
      "    mission:                         1\n",
      "    ...                              ...\n",
      "    disclaimer:                      Data has not been reviewed and is provid...\n",
      "    geospatial_vertical_positive:    no\n",
      "    date_created:                    2013-08-01T05:08:54Z\n",
      "    geospatial_vertical_units:       meter\n",
      "    dive_number:                     500\n",
      "    history:                         Processing start:\\n05:52:52 01 Aug 2013 ...\n"
     ]
    }
   ],
   "source": [
    "import pandas as pd\n",
    "\n",
    "variable_names = list(ds_single.variables)\n",
    "variable_types = {var: ds_single[var].dtype for var in variable_names}\n",
    "\n",
    "# Create a DataFrame from the variable_types dictionary\n",
    "variable_types_df = pd.DataFrame(list(variable_types.items()), columns=['Variable', 'Type'])\n",
    "\n",
    "print(variable_names)\n",
    "ds_single = xr.open_dataset(file_list[0])\n",
    "print(ds_single)"
   ]
  },
  {
   "cell_type": "code",
   "execution_count": 6,
   "id": "96550042",
   "metadata": {},
   "outputs": [
    {
     "name": "stdout",
     "output_type": "stream",
     "text": [
      "<xarray.Dataset>\n",
      "Dimensions:          (N_MEASUREMENTS: 1180, trajectory: 1)\n",
      "Coordinates:\n",
      "    LONGITUDE        (N_MEASUREMENTS) float64 ...\n",
      "    LATITUDE         (N_MEASUREMENTS) float64 ...\n",
      "    TIME             (N_MEASUREMENTS) datetime64[ns] ...\n",
      "    DEPTH            (N_MEASUREMENTS) float64 ...\n",
      "    TRAJECTORY       (trajectory) int32 500\n",
      "Dimensions without coordinates: N_MEASUREMENTS, trajectory\n",
      "Data variables:\n",
      "    TEMP             (N_MEASUREMENTS) float64 ...\n",
      "    VERT_SPEED       (N_MEASUREMENTS) float64 ...\n",
      "    PSAL_QC          (N_MEASUREMENTS) |S1 ...\n",
      "    DENSITY          (N_MEASUREMENTS) float64 ...\n",
      "    TEMP_QC          (N_MEASUREMENTS) |S1 ...\n",
      "    CNDC_QC          (N_MEASUREMENTS) |S1 ...\n",
      "    CNDC             (N_MEASUREMENTS) float64 ...\n",
      "    HORZ_SPEED       (N_MEASUREMENTS) float64 ...\n",
      "    PSAL             (N_MEASUREMENTS) float64 ...\n",
      "    DEPLOYMENT_TIME  float64 1.108e+09\n",
      "Attributes: (12/58)\n",
      "    quality_control_version:         1.1\n",
      "    base_station_micro_version:      3705\n",
      "    time_coverage_resolution:        PT1S\n",
      "    geospatial_vertical_max:         989.6984588132262\n",
      "    sea_name:                        Labrador Sea\n",
      "    mission:                         1\n",
      "    ...                              ...\n",
      "    disclaimer:                      Data has not been reviewed and is provid...\n",
      "    geospatial_vertical_positive:    no\n",
      "    date_created:                    2013-08-01T05:08:54Z\n",
      "    geospatial_vertical_units:       meter\n",
      "    dive_number:                     500\n",
      "    history:                         Processing start:\\n05:52:52 01 Aug 2013 ...\n"
     ]
    }
   ],
   "source": [
    "import datetime\n",
    "# Define dictionaries for renaming\n",
    "ds_single = xr.open_dataset(file_list[0])\n",
    "\n",
    "dims_rename_dict = {'sg_data_point': 'N_MEASUREMENTS'}\n",
    "coords_rename_dict = {\n",
    "    'longitude': 'LONGITUDE',\n",
    "    'latitude': 'LATITUDE',\n",
    "    'ctd_time': 'TIME',\n",
    "    'ctd_depth': 'DEPTH'\n",
    "}\n",
    "vars_rename_dict = {\n",
    "    'conductivity': 'CNDC',\n",
    "    'temperature': 'TEMP',\n",
    "    'salinity': 'PSAL',\n",
    "    'conductivity_qc': 'CNDC_QC',\n",
    "    'salinity_qc': 'PSAL_QC',\n",
    "    'temperature_qc': 'TEMP_QC',\n",
    "    'vert_speed': 'VERT_SPEED',\n",
    "    'horz_speed': 'HORZ_SPEED',\n",
    "    'density': 'DENSITY',\n",
    "}\n",
    "\n",
    "\n",
    "\n",
    "def process_dataset(file_list, dims_rename_dict, coords_rename_dict, vars_rename_dict):\n",
    "\n",
    "    ds_single = xr.open_dataset(file_list[0])\n",
    "\n",
    "    # Apply renaming using the dictionaries\n",
    "    ds_single = ds_single.rename_dims(dims_rename_dict)\n",
    "    ds_single = ds_single.rename_vars(coords_rename_dict)\n",
    "    ds_single = ds_single.rename_vars(vars_rename_dict)\n",
    "\n",
    "    # Remove variables not in vars_rename_dict().values\n",
    "    vars_to_keep = set(vars_rename_dict.values())\n",
    "    ds_renamed = ds_single[vars_to_keep]\n",
    "\n",
    "    # Assign trajectory coordinate and drop the original trajectory variable\n",
    "    ds_renamed = ds_renamed.assign_coords(TRAJECTORY=ds_single['trajectory'])\n",
    "    ds_renamed = ds_renamed.drop_vars('trajectory')\n",
    "\n",
    "    # Convert start_time to deployment_time\n",
    "    start_time = ds_renamed.attrs['start_time']\n",
    "    deployment_time = datetime.datetime.fromtimestamp(start_time, datetime.UTC)\n",
    "    deployment_time_float = deployment_time.timestamp()\n",
    "\n",
    "    # Create a new variable DEPLOYMENT_TIME\n",
    "    ds_renamed['DEPLOYMENT_TIME'] = deployment_time_float\n",
    "\n",
    "    # Add metadata to the new variable\n",
    "    ds_renamed['DEPLOYMENT_TIME'].attrs['long_name'] = \"date of deployment\"\n",
    "    ds_renamed['DEPLOYMENT_TIME'].attrs['standard_name'] = \"time\"\n",
    "    ds_renamed['DEPLOYMENT_TIME'].attrs['calendar'] = \"gregorian\"\n",
    "    ds_renamed['DEPLOYMENT_TIME'].attrs['units'] = \"seconds since 1970-01-01T00:00:00Z\"\n",
    "\n",
    "    return ds_renamed\n",
    "\n",
    "# Example usage\n",
    "ds_renamed = process_dataset(file_list, dims_rename_dict, coords_rename_dict, vars_rename_dict)\n",
    "print(ds_renamed)\n"
   ]
  },
  {
   "cell_type": "code",
   "execution_count": 15,
   "id": "8ca89b5a-37aa-43db-97a4-d25a8a140a30",
   "metadata": {
    "vscode": {
     "languageId": "ruby"
    }
   },
   "outputs": [
    {
     "ename": "ValueError",
     "evalue": "cannot reindex or align along dimension 'N_MEASUREMENTS' because of conflicting dimension sizes: {1266, 1263}",
     "output_type": "error",
     "traceback": [
      "\u001b[0;31m---------------------------------------------------------------------------\u001b[0m",
      "\u001b[0;31mValueError\u001b[0m                                Traceback (most recent call last)",
      "Cell \u001b[0;32mIn[15], line 32\u001b[0m\n\u001b[1;32m     29\u001b[0m     \u001b[38;5;28;01mreturn\u001b[39;00m ds\n\u001b[1;32m     31\u001b[0m \u001b[38;5;66;03m# Use xr.open_mfdataset to open multiple files and combine them along TIME\u001b[39;00m\n\u001b[0;32m---> 32\u001b[0m ds_combined \u001b[38;5;241m=\u001b[39m \u001b[43mxr\u001b[49m\u001b[38;5;241;43m.\u001b[39;49m\u001b[43mopen_mfdataset\u001b[49m\u001b[43m(\u001b[49m\u001b[43mfile_list\u001b[49m\u001b[43m,\u001b[49m\u001b[43m \u001b[49m\u001b[43mcombine\u001b[49m\u001b[38;5;241;43m=\u001b[39;49m\u001b[38;5;124;43m'\u001b[39;49m\u001b[38;5;124;43mnested\u001b[39;49m\u001b[38;5;124;43m'\u001b[39;49m\u001b[43m,\u001b[49m\u001b[43m \u001b[49m\u001b[43mconcat_dim\u001b[49m\u001b[38;5;241;43m=\u001b[39;49m\u001b[38;5;124;43m'\u001b[39;49m\u001b[38;5;124;43mTIME\u001b[39;49m\u001b[38;5;124;43m'\u001b[39;49m\u001b[43m,\u001b[49m\u001b[43m \u001b[49m\u001b[43mpreprocess\u001b[49m\u001b[38;5;241;43m=\u001b[39;49m\u001b[43mpreprocess\u001b[49m\u001b[43m)\u001b[49m\n\u001b[1;32m     33\u001b[0m \u001b[38;5;28mprint\u001b[39m(ds_combined)\n",
      "File \u001b[0;32m~/micromamba/envs/glidertest_env/lib/python3.12/site-packages/xarray/backends/api.py:1053\u001b[0m, in \u001b[0;36mopen_mfdataset\u001b[0;34m(paths, chunks, concat_dim, compat, preprocess, engine, data_vars, coords, combine, parallel, join, attrs_file, combine_attrs, **kwargs)\u001b[0m\n\u001b[1;32m   1049\u001b[0m \u001b[38;5;28;01mtry\u001b[39;00m:\n\u001b[1;32m   1050\u001b[0m     \u001b[38;5;28;01mif\u001b[39;00m combine \u001b[38;5;241m==\u001b[39m \u001b[38;5;124m\"\u001b[39m\u001b[38;5;124mnested\u001b[39m\u001b[38;5;124m\"\u001b[39m:\n\u001b[1;32m   1051\u001b[0m         \u001b[38;5;66;03m# Combined nested list by successive concat and merge operations\u001b[39;00m\n\u001b[1;32m   1052\u001b[0m         \u001b[38;5;66;03m# along each dimension, using structure given by \"ids\"\u001b[39;00m\n\u001b[0;32m-> 1053\u001b[0m         combined \u001b[38;5;241m=\u001b[39m \u001b[43m_nested_combine\u001b[49m\u001b[43m(\u001b[49m\n\u001b[1;32m   1054\u001b[0m \u001b[43m            \u001b[49m\u001b[43mdatasets\u001b[49m\u001b[43m,\u001b[49m\n\u001b[1;32m   1055\u001b[0m \u001b[43m            \u001b[49m\u001b[43mconcat_dims\u001b[49m\u001b[38;5;241;43m=\u001b[39;49m\u001b[43mconcat_dim\u001b[49m\u001b[43m,\u001b[49m\n\u001b[1;32m   1056\u001b[0m \u001b[43m            \u001b[49m\u001b[43mcompat\u001b[49m\u001b[38;5;241;43m=\u001b[39;49m\u001b[43mcompat\u001b[49m\u001b[43m,\u001b[49m\n\u001b[1;32m   1057\u001b[0m \u001b[43m            \u001b[49m\u001b[43mdata_vars\u001b[49m\u001b[38;5;241;43m=\u001b[39;49m\u001b[43mdata_vars\u001b[49m\u001b[43m,\u001b[49m\n\u001b[1;32m   1058\u001b[0m \u001b[43m            \u001b[49m\u001b[43mcoords\u001b[49m\u001b[38;5;241;43m=\u001b[39;49m\u001b[43mcoords\u001b[49m\u001b[43m,\u001b[49m\n\u001b[1;32m   1059\u001b[0m \u001b[43m            \u001b[49m\u001b[43mids\u001b[49m\u001b[38;5;241;43m=\u001b[39;49m\u001b[43mids\u001b[49m\u001b[43m,\u001b[49m\n\u001b[1;32m   1060\u001b[0m \u001b[43m            \u001b[49m\u001b[43mjoin\u001b[49m\u001b[38;5;241;43m=\u001b[39;49m\u001b[43mjoin\u001b[49m\u001b[43m,\u001b[49m\n\u001b[1;32m   1061\u001b[0m \u001b[43m            \u001b[49m\u001b[43mcombine_attrs\u001b[49m\u001b[38;5;241;43m=\u001b[39;49m\u001b[43mcombine_attrs\u001b[49m\u001b[43m,\u001b[49m\n\u001b[1;32m   1062\u001b[0m \u001b[43m        \u001b[49m\u001b[43m)\u001b[49m\n\u001b[1;32m   1063\u001b[0m     \u001b[38;5;28;01melif\u001b[39;00m combine \u001b[38;5;241m==\u001b[39m \u001b[38;5;124m\"\u001b[39m\u001b[38;5;124mby_coords\u001b[39m\u001b[38;5;124m\"\u001b[39m:\n\u001b[1;32m   1064\u001b[0m         \u001b[38;5;66;03m# Redo ordering from coordinates, ignoring how they were ordered\u001b[39;00m\n\u001b[1;32m   1065\u001b[0m         \u001b[38;5;66;03m# previously\u001b[39;00m\n\u001b[1;32m   1066\u001b[0m         combined \u001b[38;5;241m=\u001b[39m combine_by_coords(\n\u001b[1;32m   1067\u001b[0m             datasets,\n\u001b[1;32m   1068\u001b[0m             compat\u001b[38;5;241m=\u001b[39mcompat,\n\u001b[0;32m   (...)\u001b[0m\n\u001b[1;32m   1072\u001b[0m             combine_attrs\u001b[38;5;241m=\u001b[39mcombine_attrs,\n\u001b[1;32m   1073\u001b[0m         )\n",
      "File \u001b[0;32m~/micromamba/envs/glidertest_env/lib/python3.12/site-packages/xarray/core/combine.py:359\u001b[0m, in \u001b[0;36m_nested_combine\u001b[0;34m(datasets, concat_dims, compat, data_vars, coords, ids, fill_value, join, combine_attrs)\u001b[0m\n\u001b[1;32m    356\u001b[0m _check_shape_tile_ids(combined_ids)\n\u001b[1;32m    358\u001b[0m \u001b[38;5;66;03m# Apply series of concatenate or merge operations along each dimension\u001b[39;00m\n\u001b[0;32m--> 359\u001b[0m combined \u001b[38;5;241m=\u001b[39m \u001b[43m_combine_nd\u001b[49m\u001b[43m(\u001b[49m\n\u001b[1;32m    360\u001b[0m \u001b[43m    \u001b[49m\u001b[43mcombined_ids\u001b[49m\u001b[43m,\u001b[49m\n\u001b[1;32m    361\u001b[0m \u001b[43m    \u001b[49m\u001b[43mconcat_dims\u001b[49m\u001b[43m,\u001b[49m\n\u001b[1;32m    362\u001b[0m \u001b[43m    \u001b[49m\u001b[43mcompat\u001b[49m\u001b[38;5;241;43m=\u001b[39;49m\u001b[43mcompat\u001b[49m\u001b[43m,\u001b[49m\n\u001b[1;32m    363\u001b[0m \u001b[43m    \u001b[49m\u001b[43mdata_vars\u001b[49m\u001b[38;5;241;43m=\u001b[39;49m\u001b[43mdata_vars\u001b[49m\u001b[43m,\u001b[49m\n\u001b[1;32m    364\u001b[0m \u001b[43m    \u001b[49m\u001b[43mcoords\u001b[49m\u001b[38;5;241;43m=\u001b[39;49m\u001b[43mcoords\u001b[49m\u001b[43m,\u001b[49m\n\u001b[1;32m    365\u001b[0m \u001b[43m    \u001b[49m\u001b[43mfill_value\u001b[49m\u001b[38;5;241;43m=\u001b[39;49m\u001b[43mfill_value\u001b[49m\u001b[43m,\u001b[49m\n\u001b[1;32m    366\u001b[0m \u001b[43m    \u001b[49m\u001b[43mjoin\u001b[49m\u001b[38;5;241;43m=\u001b[39;49m\u001b[43mjoin\u001b[49m\u001b[43m,\u001b[49m\n\u001b[1;32m    367\u001b[0m \u001b[43m    \u001b[49m\u001b[43mcombine_attrs\u001b[49m\u001b[38;5;241;43m=\u001b[39;49m\u001b[43mcombine_attrs\u001b[49m\u001b[43m,\u001b[49m\n\u001b[1;32m    368\u001b[0m \u001b[43m\u001b[49m\u001b[43m)\u001b[49m\n\u001b[1;32m    369\u001b[0m \u001b[38;5;28;01mreturn\u001b[39;00m combined\n",
      "File \u001b[0;32m~/micromamba/envs/glidertest_env/lib/python3.12/site-packages/xarray/core/combine.py:235\u001b[0m, in \u001b[0;36m_combine_nd\u001b[0;34m(combined_ids, concat_dims, data_vars, coords, compat, fill_value, join, combine_attrs)\u001b[0m\n\u001b[1;32m    231\u001b[0m \u001b[38;5;66;03m# Each iteration of this loop reduces the length of the tile_ids tuples\u001b[39;00m\n\u001b[1;32m    232\u001b[0m \u001b[38;5;66;03m# by one. It always combines along the first dimension, removing the first\u001b[39;00m\n\u001b[1;32m    233\u001b[0m \u001b[38;5;66;03m# element of the tuple\u001b[39;00m\n\u001b[1;32m    234\u001b[0m \u001b[38;5;28;01mfor\u001b[39;00m concat_dim \u001b[38;5;129;01min\u001b[39;00m concat_dims:\n\u001b[0;32m--> 235\u001b[0m     combined_ids \u001b[38;5;241m=\u001b[39m \u001b[43m_combine_all_along_first_dim\u001b[49m\u001b[43m(\u001b[49m\n\u001b[1;32m    236\u001b[0m \u001b[43m        \u001b[49m\u001b[43mcombined_ids\u001b[49m\u001b[43m,\u001b[49m\n\u001b[1;32m    237\u001b[0m \u001b[43m        \u001b[49m\u001b[43mdim\u001b[49m\u001b[38;5;241;43m=\u001b[39;49m\u001b[43mconcat_dim\u001b[49m\u001b[43m,\u001b[49m\n\u001b[1;32m    238\u001b[0m \u001b[43m        \u001b[49m\u001b[43mdata_vars\u001b[49m\u001b[38;5;241;43m=\u001b[39;49m\u001b[43mdata_vars\u001b[49m\u001b[43m,\u001b[49m\n\u001b[1;32m    239\u001b[0m \u001b[43m        \u001b[49m\u001b[43mcoords\u001b[49m\u001b[38;5;241;43m=\u001b[39;49m\u001b[43mcoords\u001b[49m\u001b[43m,\u001b[49m\n\u001b[1;32m    240\u001b[0m \u001b[43m        \u001b[49m\u001b[43mcompat\u001b[49m\u001b[38;5;241;43m=\u001b[39;49m\u001b[43mcompat\u001b[49m\u001b[43m,\u001b[49m\n\u001b[1;32m    241\u001b[0m \u001b[43m        \u001b[49m\u001b[43mfill_value\u001b[49m\u001b[38;5;241;43m=\u001b[39;49m\u001b[43mfill_value\u001b[49m\u001b[43m,\u001b[49m\n\u001b[1;32m    242\u001b[0m \u001b[43m        \u001b[49m\u001b[43mjoin\u001b[49m\u001b[38;5;241;43m=\u001b[39;49m\u001b[43mjoin\u001b[49m\u001b[43m,\u001b[49m\n\u001b[1;32m    243\u001b[0m \u001b[43m        \u001b[49m\u001b[43mcombine_attrs\u001b[49m\u001b[38;5;241;43m=\u001b[39;49m\u001b[43mcombine_attrs\u001b[49m\u001b[43m,\u001b[49m\n\u001b[1;32m    244\u001b[0m \u001b[43m    \u001b[49m\u001b[43m)\u001b[49m\n\u001b[1;32m    245\u001b[0m (combined_ds,) \u001b[38;5;241m=\u001b[39m combined_ids\u001b[38;5;241m.\u001b[39mvalues()\n\u001b[1;32m    246\u001b[0m \u001b[38;5;28;01mreturn\u001b[39;00m combined_ds\n",
      "File \u001b[0;32m~/micromamba/envs/glidertest_env/lib/python3.12/site-packages/xarray/core/combine.py:270\u001b[0m, in \u001b[0;36m_combine_all_along_first_dim\u001b[0;34m(combined_ids, dim, data_vars, coords, compat, fill_value, join, combine_attrs)\u001b[0m\n\u001b[1;32m    268\u001b[0m     combined_ids \u001b[38;5;241m=\u001b[39m \u001b[38;5;28mdict\u001b[39m(\u001b[38;5;28msorted\u001b[39m(group))\n\u001b[1;32m    269\u001b[0m     datasets \u001b[38;5;241m=\u001b[39m combined_ids\u001b[38;5;241m.\u001b[39mvalues()\n\u001b[0;32m--> 270\u001b[0m     new_combined_ids[new_id] \u001b[38;5;241m=\u001b[39m \u001b[43m_combine_1d\u001b[49m\u001b[43m(\u001b[49m\n\u001b[1;32m    271\u001b[0m \u001b[43m        \u001b[49m\u001b[43mdatasets\u001b[49m\u001b[43m,\u001b[49m\u001b[43m \u001b[49m\u001b[43mdim\u001b[49m\u001b[43m,\u001b[49m\u001b[43m \u001b[49m\u001b[43mcompat\u001b[49m\u001b[43m,\u001b[49m\u001b[43m \u001b[49m\u001b[43mdata_vars\u001b[49m\u001b[43m,\u001b[49m\u001b[43m \u001b[49m\u001b[43mcoords\u001b[49m\u001b[43m,\u001b[49m\u001b[43m \u001b[49m\u001b[43mfill_value\u001b[49m\u001b[43m,\u001b[49m\u001b[43m \u001b[49m\u001b[43mjoin\u001b[49m\u001b[43m,\u001b[49m\u001b[43m \u001b[49m\u001b[43mcombine_attrs\u001b[49m\n\u001b[1;32m    272\u001b[0m \u001b[43m    \u001b[49m\u001b[43m)\u001b[49m\n\u001b[1;32m    273\u001b[0m \u001b[38;5;28;01mreturn\u001b[39;00m new_combined_ids\n",
      "File \u001b[0;32m~/micromamba/envs/glidertest_env/lib/python3.12/site-packages/xarray/core/combine.py:293\u001b[0m, in \u001b[0;36m_combine_1d\u001b[0;34m(datasets, concat_dim, compat, data_vars, coords, fill_value, join, combine_attrs)\u001b[0m\n\u001b[1;32m    291\u001b[0m \u001b[38;5;28;01mif\u001b[39;00m concat_dim \u001b[38;5;129;01mis\u001b[39;00m \u001b[38;5;129;01mnot\u001b[39;00m \u001b[38;5;28;01mNone\u001b[39;00m:\n\u001b[1;32m    292\u001b[0m     \u001b[38;5;28;01mtry\u001b[39;00m:\n\u001b[0;32m--> 293\u001b[0m         combined \u001b[38;5;241m=\u001b[39m \u001b[43mconcat\u001b[49m\u001b[43m(\u001b[49m\n\u001b[1;32m    294\u001b[0m \u001b[43m            \u001b[49m\u001b[43mdatasets\u001b[49m\u001b[43m,\u001b[49m\n\u001b[1;32m    295\u001b[0m \u001b[43m            \u001b[49m\u001b[43mdim\u001b[49m\u001b[38;5;241;43m=\u001b[39;49m\u001b[43mconcat_dim\u001b[49m\u001b[43m,\u001b[49m\n\u001b[1;32m    296\u001b[0m \u001b[43m            \u001b[49m\u001b[43mdata_vars\u001b[49m\u001b[38;5;241;43m=\u001b[39;49m\u001b[43mdata_vars\u001b[49m\u001b[43m,\u001b[49m\n\u001b[1;32m    297\u001b[0m \u001b[43m            \u001b[49m\u001b[43mcoords\u001b[49m\u001b[38;5;241;43m=\u001b[39;49m\u001b[43mcoords\u001b[49m\u001b[43m,\u001b[49m\n\u001b[1;32m    298\u001b[0m \u001b[43m            \u001b[49m\u001b[43mcompat\u001b[49m\u001b[38;5;241;43m=\u001b[39;49m\u001b[43mcompat\u001b[49m\u001b[43m,\u001b[49m\n\u001b[1;32m    299\u001b[0m \u001b[43m            \u001b[49m\u001b[43mfill_value\u001b[49m\u001b[38;5;241;43m=\u001b[39;49m\u001b[43mfill_value\u001b[49m\u001b[43m,\u001b[49m\n\u001b[1;32m    300\u001b[0m \u001b[43m            \u001b[49m\u001b[43mjoin\u001b[49m\u001b[38;5;241;43m=\u001b[39;49m\u001b[43mjoin\u001b[49m\u001b[43m,\u001b[49m\n\u001b[1;32m    301\u001b[0m \u001b[43m            \u001b[49m\u001b[43mcombine_attrs\u001b[49m\u001b[38;5;241;43m=\u001b[39;49m\u001b[43mcombine_attrs\u001b[49m\u001b[43m,\u001b[49m\n\u001b[1;32m    302\u001b[0m \u001b[43m        \u001b[49m\u001b[43m)\u001b[49m\n\u001b[1;32m    303\u001b[0m     \u001b[38;5;28;01mexcept\u001b[39;00m \u001b[38;5;167;01mValueError\u001b[39;00m \u001b[38;5;28;01mas\u001b[39;00m err:\n\u001b[1;32m    304\u001b[0m         \u001b[38;5;28;01mif\u001b[39;00m \u001b[38;5;124m\"\u001b[39m\u001b[38;5;124mencountered unexpected variable\u001b[39m\u001b[38;5;124m\"\u001b[39m \u001b[38;5;129;01min\u001b[39;00m \u001b[38;5;28mstr\u001b[39m(err):\n",
      "File \u001b[0;32m~/micromamba/envs/glidertest_env/lib/python3.12/site-packages/xarray/core/concat.py:251\u001b[0m, in \u001b[0;36mconcat\u001b[0;34m(objs, dim, data_vars, coords, compat, positions, fill_value, join, combine_attrs)\u001b[0m\n\u001b[1;32m    239\u001b[0m     \u001b[38;5;28;01mreturn\u001b[39;00m _dataarray_concat(\n\u001b[1;32m    240\u001b[0m         objs,\n\u001b[1;32m    241\u001b[0m         dim\u001b[38;5;241m=\u001b[39mdim,\n\u001b[0;32m   (...)\u001b[0m\n\u001b[1;32m    248\u001b[0m         combine_attrs\u001b[38;5;241m=\u001b[39mcombine_attrs,\n\u001b[1;32m    249\u001b[0m     )\n\u001b[1;32m    250\u001b[0m \u001b[38;5;28;01melif\u001b[39;00m \u001b[38;5;28misinstance\u001b[39m(first_obj, Dataset):\n\u001b[0;32m--> 251\u001b[0m     \u001b[38;5;28;01mreturn\u001b[39;00m \u001b[43m_dataset_concat\u001b[49m\u001b[43m(\u001b[49m\n\u001b[1;32m    252\u001b[0m \u001b[43m        \u001b[49m\u001b[43mobjs\u001b[49m\u001b[43m,\u001b[49m\n\u001b[1;32m    253\u001b[0m \u001b[43m        \u001b[49m\u001b[43mdim\u001b[49m\u001b[38;5;241;43m=\u001b[39;49m\u001b[43mdim\u001b[49m\u001b[43m,\u001b[49m\n\u001b[1;32m    254\u001b[0m \u001b[43m        \u001b[49m\u001b[43mdata_vars\u001b[49m\u001b[38;5;241;43m=\u001b[39;49m\u001b[43mdata_vars\u001b[49m\u001b[43m,\u001b[49m\n\u001b[1;32m    255\u001b[0m \u001b[43m        \u001b[49m\u001b[43mcoords\u001b[49m\u001b[38;5;241;43m=\u001b[39;49m\u001b[43mcoords\u001b[49m\u001b[43m,\u001b[49m\n\u001b[1;32m    256\u001b[0m \u001b[43m        \u001b[49m\u001b[43mcompat\u001b[49m\u001b[38;5;241;43m=\u001b[39;49m\u001b[43mcompat\u001b[49m\u001b[43m,\u001b[49m\n\u001b[1;32m    257\u001b[0m \u001b[43m        \u001b[49m\u001b[43mpositions\u001b[49m\u001b[38;5;241;43m=\u001b[39;49m\u001b[43mpositions\u001b[49m\u001b[43m,\u001b[49m\n\u001b[1;32m    258\u001b[0m \u001b[43m        \u001b[49m\u001b[43mfill_value\u001b[49m\u001b[38;5;241;43m=\u001b[39;49m\u001b[43mfill_value\u001b[49m\u001b[43m,\u001b[49m\n\u001b[1;32m    259\u001b[0m \u001b[43m        \u001b[49m\u001b[43mjoin\u001b[49m\u001b[38;5;241;43m=\u001b[39;49m\u001b[43mjoin\u001b[49m\u001b[43m,\u001b[49m\n\u001b[1;32m    260\u001b[0m \u001b[43m        \u001b[49m\u001b[43mcombine_attrs\u001b[49m\u001b[38;5;241;43m=\u001b[39;49m\u001b[43mcombine_attrs\u001b[49m\u001b[43m,\u001b[49m\n\u001b[1;32m    261\u001b[0m \u001b[43m    \u001b[49m\u001b[43m)\u001b[49m\n\u001b[1;32m    262\u001b[0m \u001b[38;5;28;01melse\u001b[39;00m:\n\u001b[1;32m    263\u001b[0m     \u001b[38;5;28;01mraise\u001b[39;00m \u001b[38;5;167;01mTypeError\u001b[39;00m(\n\u001b[1;32m    264\u001b[0m         \u001b[38;5;124m\"\u001b[39m\u001b[38;5;124mcan only concatenate xarray Dataset and DataArray \u001b[39m\u001b[38;5;124m\"\u001b[39m\n\u001b[1;32m    265\u001b[0m         \u001b[38;5;124mf\u001b[39m\u001b[38;5;124m\"\u001b[39m\u001b[38;5;124mobjects, got \u001b[39m\u001b[38;5;132;01m{\u001b[39;00m\u001b[38;5;28mtype\u001b[39m(first_obj)\u001b[38;5;132;01m}\u001b[39;00m\u001b[38;5;124m\"\u001b[39m\n\u001b[1;32m    266\u001b[0m     )\n",
      "File \u001b[0;32m~/micromamba/envs/glidertest_env/lib/python3.12/site-packages/xarray/core/concat.py:483\u001b[0m, in \u001b[0;36m_dataset_concat\u001b[0;34m(datasets, dim, data_vars, coords, compat, positions, fill_value, join, combine_attrs)\u001b[0m\n\u001b[1;32m    480\u001b[0m \u001b[38;5;66;03m# Make sure we're working on a copy (we'll be loading variables)\u001b[39;00m\n\u001b[1;32m    481\u001b[0m datasets \u001b[38;5;241m=\u001b[39m [ds\u001b[38;5;241m.\u001b[39mcopy() \u001b[38;5;28;01mfor\u001b[39;00m ds \u001b[38;5;129;01min\u001b[39;00m datasets]\n\u001b[1;32m    482\u001b[0m datasets \u001b[38;5;241m=\u001b[39m \u001b[38;5;28mlist\u001b[39m(\n\u001b[0;32m--> 483\u001b[0m     \u001b[43malign\u001b[49m\u001b[43m(\u001b[49m\u001b[38;5;241;43m*\u001b[39;49m\u001b[43mdatasets\u001b[49m\u001b[43m,\u001b[49m\u001b[43m \u001b[49m\u001b[43mjoin\u001b[49m\u001b[38;5;241;43m=\u001b[39;49m\u001b[43mjoin\u001b[49m\u001b[43m,\u001b[49m\u001b[43m \u001b[49m\u001b[43mcopy\u001b[49m\u001b[38;5;241;43m=\u001b[39;49m\u001b[38;5;28;43;01mFalse\u001b[39;49;00m\u001b[43m,\u001b[49m\u001b[43m \u001b[49m\u001b[43mexclude\u001b[49m\u001b[38;5;241;43m=\u001b[39;49m\u001b[43m[\u001b[49m\u001b[43mdim\u001b[49m\u001b[43m]\u001b[49m\u001b[43m,\u001b[49m\u001b[43m \u001b[49m\u001b[43mfill_value\u001b[49m\u001b[38;5;241;43m=\u001b[39;49m\u001b[43mfill_value\u001b[49m\u001b[43m)\u001b[49m\n\u001b[1;32m    484\u001b[0m )\n\u001b[1;32m    486\u001b[0m dim_coords, dims_sizes, coord_names, data_names, vars_order \u001b[38;5;241m=\u001b[39m _parse_datasets(\n\u001b[1;32m    487\u001b[0m     datasets\n\u001b[1;32m    488\u001b[0m )\n\u001b[1;32m    489\u001b[0m dim_names \u001b[38;5;241m=\u001b[39m \u001b[38;5;28mset\u001b[39m(dim_coords)\n",
      "File \u001b[0;32m~/micromamba/envs/glidertest_env/lib/python3.12/site-packages/xarray/core/alignment.py:787\u001b[0m, in \u001b[0;36malign\u001b[0;34m(join, copy, indexes, exclude, fill_value, *objects)\u001b[0m\n\u001b[1;32m    591\u001b[0m \u001b[38;5;250m\u001b[39m\u001b[38;5;124;03m\"\"\"\u001b[39;00m\n\u001b[1;32m    592\u001b[0m \u001b[38;5;124;03mGiven any number of Dataset and/or DataArray objects, returns new\u001b[39;00m\n\u001b[1;32m    593\u001b[0m \u001b[38;5;124;03mobjects with aligned indexes and dimension sizes.\u001b[39;00m\n\u001b[0;32m   (...)\u001b[0m\n\u001b[1;32m    777\u001b[0m \n\u001b[1;32m    778\u001b[0m \u001b[38;5;124;03m\"\"\"\u001b[39;00m\n\u001b[1;32m    779\u001b[0m aligner \u001b[38;5;241m=\u001b[39m Aligner(\n\u001b[1;32m    780\u001b[0m     objects,\n\u001b[1;32m    781\u001b[0m     join\u001b[38;5;241m=\u001b[39mjoin,\n\u001b[0;32m   (...)\u001b[0m\n\u001b[1;32m    785\u001b[0m     fill_value\u001b[38;5;241m=\u001b[39mfill_value,\n\u001b[1;32m    786\u001b[0m )\n\u001b[0;32m--> 787\u001b[0m \u001b[43maligner\u001b[49m\u001b[38;5;241;43m.\u001b[39;49m\u001b[43malign\u001b[49m\u001b[43m(\u001b[49m\u001b[43m)\u001b[49m\n\u001b[1;32m    788\u001b[0m \u001b[38;5;28;01mreturn\u001b[39;00m aligner\u001b[38;5;241m.\u001b[39mresults\n",
      "File \u001b[0;32m~/micromamba/envs/glidertest_env/lib/python3.12/site-packages/xarray/core/alignment.py:573\u001b[0m, in \u001b[0;36mAligner.align\u001b[0;34m(self)\u001b[0m\n\u001b[1;32m    571\u001b[0m \u001b[38;5;28mself\u001b[39m\u001b[38;5;241m.\u001b[39massert_no_index_conflict()\n\u001b[1;32m    572\u001b[0m \u001b[38;5;28mself\u001b[39m\u001b[38;5;241m.\u001b[39malign_indexes()\n\u001b[0;32m--> 573\u001b[0m \u001b[38;5;28;43mself\u001b[39;49m\u001b[38;5;241;43m.\u001b[39;49m\u001b[43massert_unindexed_dim_sizes_equal\u001b[49m\u001b[43m(\u001b[49m\u001b[43m)\u001b[49m\n\u001b[1;32m    575\u001b[0m \u001b[38;5;28;01mif\u001b[39;00m \u001b[38;5;28mself\u001b[39m\u001b[38;5;241m.\u001b[39mjoin \u001b[38;5;241m==\u001b[39m \u001b[38;5;124m\"\u001b[39m\u001b[38;5;124moverride\u001b[39m\u001b[38;5;124m\"\u001b[39m:\n\u001b[1;32m    576\u001b[0m     \u001b[38;5;28mself\u001b[39m\u001b[38;5;241m.\u001b[39moverride_indexes()\n",
      "File \u001b[0;32m~/micromamba/envs/glidertest_env/lib/python3.12/site-packages/xarray/core/alignment.py:472\u001b[0m, in \u001b[0;36mAligner.assert_unindexed_dim_sizes_equal\u001b[0;34m(self)\u001b[0m\n\u001b[1;32m    470\u001b[0m     add_err_msg \u001b[38;5;241m=\u001b[39m \u001b[38;5;124m\"\u001b[39m\u001b[38;5;124m\"\u001b[39m\n\u001b[1;32m    471\u001b[0m \u001b[38;5;28;01mif\u001b[39;00m \u001b[38;5;28mlen\u001b[39m(sizes) \u001b[38;5;241m>\u001b[39m \u001b[38;5;241m1\u001b[39m:\n\u001b[0;32m--> 472\u001b[0m     \u001b[38;5;28;01mraise\u001b[39;00m \u001b[38;5;167;01mValueError\u001b[39;00m(\n\u001b[1;32m    473\u001b[0m         \u001b[38;5;124mf\u001b[39m\u001b[38;5;124m\"\u001b[39m\u001b[38;5;124mcannot reindex or align along dimension \u001b[39m\u001b[38;5;132;01m{\u001b[39;00mdim\u001b[38;5;132;01m!r}\u001b[39;00m\u001b[38;5;124m \u001b[39m\u001b[38;5;124m\"\u001b[39m\n\u001b[1;32m    474\u001b[0m         \u001b[38;5;124mf\u001b[39m\u001b[38;5;124m\"\u001b[39m\u001b[38;5;124mbecause of conflicting dimension sizes: \u001b[39m\u001b[38;5;132;01m{\u001b[39;00msizes\u001b[38;5;132;01m!r}\u001b[39;00m\u001b[38;5;124m\"\u001b[39m \u001b[38;5;241m+\u001b[39m add_err_msg\n\u001b[1;32m    475\u001b[0m     )\n",
      "\u001b[0;31mValueError\u001b[0m: cannot reindex or align along dimension 'N_MEASUREMENTS' because of conflicting dimension sizes: {1266, 1263}"
     ]
    }
   ],
   "source": [
    "def preprocess(ds):\n",
    "    # Apply renaming using the dictionaries\n",
    "    ds = ds.rename_dims(dims_rename_dict)\n",
    "    ds = ds.rename_vars(coords_rename_dict)\n",
    "    ds = ds.rename_vars(vars_rename_dict)\n",
    "\n",
    "    # Remove variables not in vars_rename_dict().values\n",
    "    vars_to_keep = set(vars_rename_dict.values())\n",
    "    ds = ds[vars_to_keep]\n",
    "\n",
    "    # Assign trajectory coordinate and drop the original trajectory variable\n",
    "#    ds = ds.assign_coords(TRAJECTORY=ds['trajectory'])\n",
    "#    ds = ds.drop_vars('trajectory')\n",
    "\n",
    "    # Convert start_time to deployment_time\n",
    "    start_time = ds.attrs['start_time']\n",
    "    deployment_time = datetime.datetime.fromtimestamp(start_time, datetime.UTC)\n",
    "    deployment_time_float = deployment_time.timestamp()\n",
    "\n",
    "    # Create a new variable DEPLOYMENT_TIME\n",
    "    ds['DEPLOYMENT_TIME'] = deployment_time_float\n",
    "\n",
    "    # Add metadata to the new variable\n",
    "    ds['DEPLOYMENT_TIME'].attrs['long_name'] = \"date of deployment\"\n",
    "    ds['DEPLOYMENT_TIME'].attrs['standard_name'] = \"time\"\n",
    "    ds['DEPLOYMENT_TIME'].attrs['calendar'] = \"gregorian\"\n",
    "    ds['DEPLOYMENT_TIME'].attrs['units'] = \"seconds since 1970-01-01T00:00:00Z\"\n",
    "\n",
    "    return ds\n",
    "\n",
    "# Use xr.open_mfdataset to open multiple files and combine them along TIME\n",
    "ds_combined = xr.open_mfdataset(file_list, combine='nested', concat_dim='TIME', preprocess=preprocess)\n",
    "print(ds_combined)\n",
    "\n"
   ]
  },
  {
   "cell_type": "code",
   "execution_count": null,
   "id": "a52cefd4",
   "metadata": {
    "vscode": {
     "languageId": "ruby"
    }
   },
   "outputs": [],
   "source": []
  },
  {
   "cell_type": "markdown",
   "id": "6b93a2ef",
   "metadata": {},
   "source": [
    "# Basic statistics of dataset"
   ]
  },
  {
   "cell_type": "code",
   "execution_count": null,
   "id": "c6fd094f",
   "metadata": {},
   "outputs": [],
   "source": [
    "# Basic plot of the location of the dataset in space/time\n",
    "tools.plot_glider_track(ds)"
   ]
  },
  {
   "cell_type": "code",
   "execution_count": null,
   "id": "620e5523",
   "metadata": {},
   "outputs": [],
   "source": [
    "# Basic diagnostics of the gridding in the dataset\n",
    "tools.plot_grid_spacing_histograms(ds)"
   ]
  },
  {
   "cell_type": "code",
   "execution_count": null,
   "id": "6bf7fb8d",
   "metadata": {},
   "outputs": [],
   "source": [
    "# Basic diagnostics of the watermass properties\n",
    "tools.plot_ts_histograms(ds)\n"
   ]
  },
  {
   "cell_type": "markdown",
   "id": "4f0504af-b61b-4369-b2d9-f41101bf06d3",
   "metadata": {},
   "source": [
    "### Check basic data and water column structure first"
   ]
  },
  {
   "cell_type": "code",
   "execution_count": null,
   "id": "df3badf9-77bc-4980-bbcf-667ecbe7ac83",
   "metadata": {},
   "outputs": [],
   "source": [
    "tools.plot_basic_vars(ds,v_res=1, start_prof=1, end_prof=int(ds.PROFILE_NUMBER.max()))"
   ]
  },
  {
   "cell_type": "markdown",
   "id": "34dd4862-c730-49f8-973b-f533407c9e79",
   "metadata": {},
   "source": [
    "## Check if the profile number was assigned well \n",
    "\n",
    "We want to check if the profile number is consistently increasing or not.\n",
    "When using pyglider to assign the profile, there can be some issues if the correct pressure and time threshold is not chosen.\n",
    "\n",
    "Users, based on their dataset will chose a specific min_dp and profile_min_time for the get_profiles_new(). If not chosen carefully, the function may struggle assigning a profile number (resulting in 0s in the middle of the dataset) or could split profiles when, for example, the glider get stuck on pycnoclne\n"
   ]
  },
  {
   "cell_type": "code",
   "execution_count": null,
   "id": "59ff30b8-8894-4c88-b0bc-b9ef13667bfe",
   "metadata": {},
   "outputs": [],
   "source": [
    "tools.check_monotony(ds.PROFILE_NUMBER)\n",
    "tools.plot_profIncrease(ds)"
   ]
  },
  {
   "cell_type": "markdown",
   "id": "3c8e018e-389b-410b-8455-d37d6effca7e",
   "metadata": {},
   "source": [
    "### Check for up-downcast bias in Salinity, Temperature, Chlorophyll and Oxygen"
   ]
  },
  {
   "cell_type": "code",
   "execution_count": null,
   "id": "1c7071c3-e90c-41de-b1a3-508dae16933f",
   "metadata": {},
   "outputs": [],
   "source": [
    "fig, ax = plt.subplots(1, 4, figsize=(15, 5))\n",
    "\n",
    "tools.plot_updown_bias(tools.updown_bias(ds, var='TEMP', v_res=1), ax[0],  xlabel='Temperature [C]')\n",
    "tools.plot_updown_bias(tools.updown_bias(ds, var='PSAL', v_res=1), ax[1],  xlabel='Salinity [PSU]')\n",
    "tools.plot_updown_bias(tools.updown_bias(ds, var='DOXY', v_res=1), ax[2],  xlabel='Dissolved Oxygen [mmol m-3]')\n",
    "tools.plot_updown_bias(tools.updown_bias(ds, var='CHLA', v_res=1), ax[3],  xlabel='Chlorophyll [mg m-3]')\n",
    "\n",
    "ax[0].set_ylabel('Depth [m]')"
   ]
  },
  {
   "cell_type": "markdown",
   "id": "d4553a25-675a-4738-be65-409c0f134ac0",
   "metadata": {},
   "source": [
    "### CTD\n",
    "\n",
    "Check for any thermal intertia related issues\n",
    "\n",
    "Salinity SOP provides a great summary of the needed processing of salinity data and the vaious difference based on sensor modela nd platform type https://oceangliderscommunity.github.io/Salinity_SOP/sections/salinity_dmqc.html"
   ]
  },
  {
   "cell_type": "markdown",
   "id": "4ae684a3-f9a8-454c-804e-a669cd6d25a5",
   "metadata": {},
   "source": [
    "### Chlorophyll fluorescence\n",
    "\n",
    "*  Check bottom data and see if we have stable data that can be used for calibration. We also check stability of data to assess whether or not we have suspicious drift over the mission\n",
    "* We check for any temporal drift when analysing the entire water column and not just the bottom data\n",
    "* We then check if data is affected by non photochemical quenching (NPQ). NPQ is a physiological response to high light environments used by plants and algae to protect themselves from damage and causes an evident weakening in fluorescence signal during the day. With the 'day_night_avg' function, we compute day and night averages of chlorophyll. We then plot a selected section of chlorophyll data with 'plot_section_with_srss' to see if any NPQ effect in the top few meters is visible and then we plot a selcted day daily and night average to check again any NPQ effect with 'plot_daynight_avg'.\n",
    "\n",
    "(Reminder this tests mission had issues with FLBBCD as it stopped working few days into the missiona and got flooded)"
   ]
  },
  {
   "cell_type": "code",
   "execution_count": null,
   "id": "1cb7cb44-d228-4a1b-bdc6-0214b240e4bd",
   "metadata": {},
   "outputs": [],
   "source": [
    "tools.optics_first_check(ds, var='CHLA')"
   ]
  },
  {
   "cell_type": "code",
   "execution_count": null,
   "id": "c93c6b45-9b6d-40c6-be1b-931eabb59848",
   "metadata": {},
   "outputs": [],
   "source": [
    "tools.check_temporal_drift(ds, var='CHLA')"
   ]
  },
  {
   "cell_type": "code",
   "execution_count": null,
   "id": "9a5830d3-df8e-420b-bdef-cb6ea8e7d3cf",
   "metadata": {},
   "outputs": [],
   "source": [
    "# Let's visually check a section of chlorphyll and see if we observe any NPQ\n",
    "fig, ax = plt.subplots(1, 1, figsize=(15, 5))\n",
    "\n",
    "tools.plot_section_with_srss(ds, 'CHLA', ax, start_time = '2023-09-06', end_time = '2023-09-10', ylim=35)"
   ]
  },
  {
   "cell_type": "code",
   "execution_count": null,
   "id": "36ee2bc6-8d67-4ce4-a76f-a7a8df194af9",
   "metadata": {},
   "outputs": [],
   "source": [
    "# Compute day and night average for chlorophylla and temeparture\n",
    "dayT, nightT = tools.day_night_avg(ds, sel_var='TEMP',start_time = '2023-09-06', end_time = '2023-09-10')\n",
    "dayS, nightS = tools.day_night_avg(ds, sel_var='PSAL',start_time = '2023-09-06', end_time = '2023-09-10')\n",
    "dayC, nightC = tools.day_night_avg(ds, sel_var='CHLA',start_time = '2023-09-06', end_time = '2023-09-10')"
   ]
  },
  {
   "cell_type": "code",
   "execution_count": null,
   "id": "4ba12a0d-bcdf-42e2-a705-aed268977b95",
   "metadata": {},
   "outputs": [],
   "source": [
    "fig, ax = plt.subplots(1, 3, figsize=(15, 5))\n",
    "\n",
    "tools.plot_daynight_avg( dayT, nightT, ax[0],sel_day='2023-09-08', xlabel='Temperature [C]')\n",
    "tools.plot_daynight_avg( dayS, nightS, ax[1],sel_day='2023-09-08', xlabel='Salinity [PSU]')\n",
    "tools.plot_daynight_avg( dayC, nightC, ax[2],sel_day='2023-09-08', xlabel='Chlorophyll [mg m-3]')"
   ]
  },
  {
   "cell_type": "markdown",
   "id": "60e18c38-0911-443d-8543-6099237f4475",
   "metadata": {},
   "source": [
    "Do we see any difference in chl between day and night? Can this just simply be explained by changes in water mass properties (different temp and salinity)?"
   ]
  },
  {
   "cell_type": "markdown",
   "id": "1af62665-5c60-457f-8ee4-c83d0139c8c1",
   "metadata": {},
   "source": [
    "#### Non photochemical quenching corrections\n",
    "NPQ occurs only during the daytime, therefore when night measurements close in time and \n",
    "space are available, they can be used to correct daytime profiles. Different methods exist for NPQ \n",
    "correction. We recommend the paper by Thomalla et al. (2018) for a good overview on all possible methods. \n",
    "GliderTools (https://glidertools.readthedocs.io/en/latest/optics.html#quenching-correction) provides good tools for correction\n",
    "\n",
    "Thomalla, S. J., W. Moutier, T. J. Ryan-Keogh, L. Gregor, and J. Schütt. 2018. An optimized \n",
    "method for correcting fluorescence quenching using optical backscattering on autonomous \n",
    "platforms. Limnology and Oceanography: Methods, 16: 132-144. DOI: \n",
    "https://doi.org/10.1002/lom3.10234"
   ]
  },
  {
   "cell_type": "markdown",
   "id": "6f23e85e-80a2-45b0-af03-817223db10c0",
   "metadata": {},
   "source": [
    "### Photosyntetically Active Radiation (PAR)"
   ]
  },
  {
   "cell_type": "code",
   "execution_count": null,
   "id": "6865c233-5a34-4a9b-9ffb-6b0375ade115",
   "metadata": {},
   "outputs": [],
   "source": [
    "ds_par = fetchers.load_sample_dataset(dataset_name=\"sea055_20220104T1536_delayed.nc\")"
   ]
  },
  {
   "cell_type": "code",
   "execution_count": null,
   "id": "c2c640e7-f3e0-4e7a-b652-c1efbc0c2fc7",
   "metadata": {},
   "outputs": [],
   "source": [
    "fig, ax = plt.subplots(1, 1, figsize=(5, 5))\n",
    "tools.plot_updown_bias(tools.updown_bias(ds_par, var='DPAR', v_res=1), ax,  xlabel='Irradiance')"
   ]
  },
  {
   "cell_type": "markdown",
   "id": "da91f0b2-99d9-44f9-b593-006f3cd20244",
   "metadata": {},
   "source": [
    "Do we notice any strong up down cast bias?\n",
    "\n",
    "Likely we do as the diving angle changes. The pitch for upcast and downcast are very different while the position of the sensor remains the same. This means that the angle at which the sensor is exposed to light is very different and data will not be comparable. Furthermore, navigation patterns have to be considered too when processing PAR data. As the glider sits at surface, the pitch (therefore the sensor angle) can be very different from the rest of the dive. Moreover, as the glider starts to dive or prepares for surfacing during a climb the pitch may be very different as well.\n",
    "\n",
    "Discarding and reconstructing algebraically the surface PAR using an exponential equation and selecting data from only up or downcast is therefore recommended. GliderTools provides great examples and functions to address this issues (https://glidertools.readthedocs.io/en/latest/optics.html#par-replacement)"
   ]
  },
  {
   "cell_type": "markdown",
   "id": "5d15da55-af84-41d0-aedd-d699b651c4de",
   "metadata": {},
   "source": [
    "### Optical Backscatter\n",
    "\n",
    "*  Check bottom data and see if we have stable data that can be used for calibration. We also check stability of data to assess whether or not we have suspicious drift over the mission\n",
    "* We check for any temporal drift when analysing the entire water column and not just the bottom data\n",
    "* In case computation of particle backscattering from the scaled optical data was not done, this can be done following a function from GliderTools. this functions uses uses the coefficients from Zhang et al. (2009) to convert the raw counts into total backscatter (m-1), correcting for temperature and salinity. The $\\chi$ factor and $\\theta$ in this example were taken from Sullivan et al. (2013) and Slade & Boss (2015).\n",
    "\n",
    "Slade, W., Boss, E. 2015. Spectral attenuation and backscattering as indicators of average particle size. Applied Optics 54: 7264-7277, doi:10.1364/AO.54.00726. \n",
    "\n",
    "Sullivan, J., Twardowski, M., Zaneveld, J.R.V., Moore, C. 2013. Measuring optical backscattering in water. Light Scattering Reviews 7. 189-224. 10.1007/978-3-642-21907-8_6.\n",
    "\n",
    "Zhang, X., and L. Hu. 2009. Estimating scattering of pure water from density fluctuation of the \n",
    "refractive index. Optics Express, 17: 1671-1678. DOI: 10.1364/OE.17.001671 7"
   ]
  },
  {
   "cell_type": "code",
   "execution_count": null,
   "id": "5975e520-b695-4dd9-bbce-58feb91e4164",
   "metadata": {},
   "outputs": [],
   "source": [
    "tools.optics_first_check(ds, var='BBP700')"
   ]
  },
  {
   "cell_type": "code",
   "execution_count": null,
   "id": "771988b5-9e61-4b39-85d9-d482e1b8a264",
   "metadata": {},
   "outputs": [],
   "source": [
    "tools.check_temporal_drift(ds, var='BBP700')"
   ]
  },
  {
   "cell_type": "markdown",
   "id": "f8c7d90a-6482-4f25-b417-ecc6e2e7f65d",
   "metadata": {},
   "source": [
    "### Oxygen\n",
    "\n",
    "*  Check for any possible drift in the data that might look suspicious. The great temporal and spatial variability may not allow for such check to be succesful. Evaluation using reference CTD cast data or any other data available in the stufy area is recommended.\n",
    "\n",
    "Oxygen SOP provides a great summary of the needed processing of salinity data and the vaious difference based on sensor modela nd platform type https://oceangliderscommunity.github.io/Salinity_SOP/sections/salinity_dmqc.html"
   ]
  },
  {
   "cell_type": "code",
   "execution_count": null,
   "id": "d6096ce8-2a9a-4d36-bde2-3148045191aa",
   "metadata": {},
   "outputs": [],
   "source": [
    "tools.check_temporal_drift(ds, var='DOXY')"
   ]
  },
  {
   "cell_type": "code",
   "execution_count": null,
   "id": "0bc6bf18-ab77-4446-a8c4-eaecb9460b59",
   "metadata": {},
   "outputs": [],
   "source": []
  }
 ],
 "metadata": {
  "kernelspec": {
   "display_name": "Python 3",
   "language": "python",
   "name": "python3"
  },
  "language_info": {
   "codemirror_mode": {
    "name": "ipython",
    "version": 3
   },
   "file_extension": ".py",
   "mimetype": "text/x-python",
   "name": "python",
   "nbconvert_exporter": "python",
   "pygments_lexer": "ipython3",
   "version": "3.12.7"
  }
 },
 "nbformat": 4,
 "nbformat_minor": 5
}
